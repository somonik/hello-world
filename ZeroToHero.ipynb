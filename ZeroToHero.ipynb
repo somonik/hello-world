{
  "nbformat": 4,
  "nbformat_minor": 0,
  "metadata": {
    "colab": {
      "name": "Untitled0.ipynb",
      "provenance": [],
      "collapsed_sections": [],
      "authorship_tag": "ABX9TyPdX65+oXn2FeMRfxzwYko+",
      "include_colab_link": true
    },
    "kernelspec": {
      "name": "python3",
      "display_name": "Python 3"
    }
  },
  "cells": [
    {
      "cell_type": "markdown",
      "metadata": {
        "id": "view-in-github",
        "colab_type": "text"
      },
      "source": [
        "<a href=\"https://colab.research.google.com/github/somonik/hello-world/blob/master/ZeroToHero.ipynb\" target=\"_parent\"><img src=\"https://colab.research.google.com/assets/colab-badge.svg\" alt=\"Open In Colab\"/></a>"
      ]
    },
    {
      "cell_type": "code",
      "metadata": {
        "colab": {
          "base_uri": "https://localhost:8080/"
        },
        "id": "nNybd8Ga18wo",
        "outputId": "c1ddf805-a8b1-490c-c7a2-33038c31217c"
      },
      "source": [
        "print('Hello World')"
      ],
      "execution_count": 1,
      "outputs": [
        {
          "output_type": "stream",
          "text": [
            "Hello World\n"
          ],
          "name": "stdout"
        }
      ]
    },
    {
      "cell_type": "code",
      "metadata": {
        "id": "FogMAaen8Zbc"
      },
      "source": [
        "mystring = 'abcdefg'"
      ],
      "execution_count": 2,
      "outputs": []
    },
    {
      "cell_type": "code",
      "metadata": {
        "colab": {
          "base_uri": "https://localhost:8080/",
          "height": 35
        },
        "id": "4FxRHmpV8fni",
        "outputId": "397ad29c-282d-4447-c952-7fd2d7667653"
      },
      "source": [
        "mystring[::]"
      ],
      "execution_count": 3,
      "outputs": [
        {
          "output_type": "execute_result",
          "data": {
            "application/vnd.google.colaboratory.intrinsic+json": {
              "type": "string"
            },
            "text/plain": [
              "'abcdefg'"
            ]
          },
          "metadata": {
            "tags": []
          },
          "execution_count": 3
        }
      ]
    },
    {
      "cell_type": "code",
      "metadata": {
        "colab": {
          "base_uri": "https://localhost:8080/",
          "height": 35
        },
        "id": "rbj7rr9a8iHx",
        "outputId": "123566de-8864-4450-859d-a0adc64aeca5"
      },
      "source": [
        "mystring[:3]"
      ],
      "execution_count": 4,
      "outputs": [
        {
          "output_type": "execute_result",
          "data": {
            "application/vnd.google.colaboratory.intrinsic+json": {
              "type": "string"
            },
            "text/plain": [
              "'abc'"
            ]
          },
          "metadata": {
            "tags": []
          },
          "execution_count": 4
        }
      ]
    },
    {
      "cell_type": "code",
      "metadata": {
        "colab": {
          "base_uri": "https://localhost:8080/",
          "height": 35
        },
        "id": "oXOhlarZ8lkU",
        "outputId": "ba13ce14-9b6f-4b74-9346-e6aeca6ac0b4"
      },
      "source": [
        "mystring[:4]"
      ],
      "execution_count": 5,
      "outputs": [
        {
          "output_type": "execute_result",
          "data": {
            "application/vnd.google.colaboratory.intrinsic+json": {
              "type": "string"
            },
            "text/plain": [
              "'abcd'"
            ]
          },
          "metadata": {
            "tags": []
          },
          "execution_count": 5
        }
      ]
    },
    {
      "cell_type": "code",
      "metadata": {
        "colab": {
          "base_uri": "https://localhost:8080/",
          "height": 35
        },
        "id": "lNJuagOP9EnZ",
        "outputId": "6ca965b6-35e6-4bff-b207-b3751fc7a396"
      },
      "source": [
        "mystring"
      ],
      "execution_count": 6,
      "outputs": [
        {
          "output_type": "execute_result",
          "data": {
            "application/vnd.google.colaboratory.intrinsic+json": {
              "type": "string"
            },
            "text/plain": [
              "'abcdefg'"
            ]
          },
          "metadata": {
            "tags": []
          },
          "execution_count": 6
        }
      ]
    },
    {
      "cell_type": "code",
      "metadata": {
        "colab": {
          "base_uri": "https://localhost:8080/",
          "height": 35
        },
        "id": "UCmrg4r5FxzM",
        "outputId": "144321cd-3aec-4e05-a15f-a5d902bc80aa"
      },
      "source": [
        "mystring[2]"
      ],
      "execution_count": 7,
      "outputs": [
        {
          "output_type": "execute_result",
          "data": {
            "application/vnd.google.colaboratory.intrinsic+json": {
              "type": "string"
            },
            "text/plain": [
              "'c'"
            ]
          },
          "metadata": {
            "tags": []
          },
          "execution_count": 7
        }
      ]
    },
    {
      "cell_type": "code",
      "metadata": {
        "colab": {
          "base_uri": "https://localhost:8080/",
          "height": 35
        },
        "id": "GhChy9V1F03d",
        "outputId": "9faa8c0b-bb68-41c3-a3db-eb3c157d3f0d"
      },
      "source": [
        "mystring[:1]"
      ],
      "execution_count": 8,
      "outputs": [
        {
          "output_type": "execute_result",
          "data": {
            "application/vnd.google.colaboratory.intrinsic+json": {
              "type": "string"
            },
            "text/plain": [
              "'a'"
            ]
          },
          "metadata": {
            "tags": []
          },
          "execution_count": 8
        }
      ]
    },
    {
      "cell_type": "code",
      "metadata": {
        "id": "CpMGUxDxF7PD"
      },
      "source": [
        "mystring2 = ['ha', 'ba', 'chu', 'va']"
      ],
      "execution_count": 9,
      "outputs": []
    },
    {
      "cell_type": "code",
      "metadata": {
        "colab": {
          "base_uri": "https://localhost:8080/"
        },
        "id": "7iiwkQkRGTK7",
        "outputId": "387befc3-fb19-4c6b-c98f-d5c65e0be1e3"
      },
      "source": [
        "mystring2[::]"
      ],
      "execution_count": 10,
      "outputs": [
        {
          "output_type": "execute_result",
          "data": {
            "text/plain": [
              "['ha', 'ba', 'chu', 'va']"
            ]
          },
          "metadata": {
            "tags": []
          },
          "execution_count": 10
        }
      ]
    },
    {
      "cell_type": "code",
      "metadata": {
        "colab": {
          "base_uri": "https://localhost:8080/",
          "height": 35
        },
        "id": "jiqx70SjGVsi",
        "outputId": "53fdaf12-83f1-40dc-b808-8da7f17929af"
      },
      "source": [
        "mystring2[2]"
      ],
      "execution_count": 11,
      "outputs": [
        {
          "output_type": "execute_result",
          "data": {
            "application/vnd.google.colaboratory.intrinsic+json": {
              "type": "string"
            },
            "text/plain": [
              "'chu'"
            ]
          },
          "metadata": {
            "tags": []
          },
          "execution_count": 11
        }
      ]
    },
    {
      "cell_type": "code",
      "metadata": {
        "id": "zdILSJEOGZUm"
      },
      "source": [
        "a, b, c = 'fruit', 'animal', 'city'"
      ],
      "execution_count": 12,
      "outputs": []
    },
    {
      "cell_type": "code",
      "metadata": {
        "colab": {
          "base_uri": "https://localhost:8080/"
        },
        "id": "7KdrybnFIfdL",
        "outputId": "d52d3a8b-4b51-40f7-c517-b6e0126e39d6"
      },
      "source": [
        "print(a,b,c)"
      ],
      "execution_count": 13,
      "outputs": [
        {
          "output_type": "stream",
          "text": [
            "fruit animal city\n"
          ],
          "name": "stdout"
        }
      ]
    },
    {
      "cell_type": "code",
      "metadata": {
        "colab": {
          "base_uri": "https://localhost:8080/"
        },
        "id": "VXoPs9PtIkSv",
        "outputId": "4ad6b8af-e7f7-4580-e706-33e5c6f992fa"
      },
      "source": [
        "print(a)"
      ],
      "execution_count": 14,
      "outputs": [
        {
          "output_type": "stream",
          "text": [
            "fruit\n"
          ],
          "name": "stdout"
        }
      ]
    },
    {
      "cell_type": "code",
      "metadata": {
        "id": "3lOKVGF6Inuu"
      },
      "source": [
        "fruits = ['apple', 'banana', 'strawberry', 'lemon']"
      ],
      "execution_count": 15,
      "outputs": []
    },
    {
      "cell_type": "code",
      "metadata": {
        "id": "azwS8p7TJv7i"
      },
      "source": [
        "e, f, g, h = fruits"
      ],
      "execution_count": 16,
      "outputs": []
    },
    {
      "cell_type": "code",
      "metadata": {
        "colab": {
          "base_uri": "https://localhost:8080/"
        },
        "id": "lj6YFo6VJ4bz",
        "outputId": "ce0125c7-b8a8-4a0e-ce25-1b1bf9fb75fa"
      },
      "source": [
        "print(e)"
      ],
      "execution_count": 17,
      "outputs": [
        {
          "output_type": "stream",
          "text": [
            "apple\n"
          ],
          "name": "stdout"
        }
      ]
    },
    {
      "cell_type": "code",
      "metadata": {
        "colab": {
          "base_uri": "https://localhost:8080/"
        },
        "id": "vWwMZULrJ6at",
        "outputId": "31411ac2-ee08-414c-91dd-0dffc89cfa8d"
      },
      "source": [
        "print(len(fruits))"
      ],
      "execution_count": 18,
      "outputs": [
        {
          "output_type": "stream",
          "text": [
            "4\n"
          ],
          "name": "stdout"
        }
      ]
    },
    {
      "cell_type": "code",
      "metadata": {
        "id": "IWpv7FlfKA_O"
      },
      "source": [
        "fruits.append('cherry')"
      ],
      "execution_count": 19,
      "outputs": []
    },
    {
      "cell_type": "code",
      "metadata": {
        "colab": {
          "base_uri": "https://localhost:8080/"
        },
        "id": "G9vFUg3XKOBB",
        "outputId": "f59e253e-96d2-4d47-ed73-21c57c49fda9"
      },
      "source": [
        "print(fruits)"
      ],
      "execution_count": 20,
      "outputs": [
        {
          "output_type": "stream",
          "text": [
            "['apple', 'banana', 'strawberry', 'lemon', 'cherry']\n"
          ],
          "name": "stdout"
        }
      ]
    },
    {
      "cell_type": "code",
      "metadata": {
        "colab": {
          "base_uri": "https://localhost:8080/"
        },
        "id": "zRP8uX3HCuIP",
        "outputId": "bf226b69-718e-4978-894a-f50e6896e99f"
      },
      "source": [
        "print('fruits')"
      ],
      "execution_count": 21,
      "outputs": [
        {
          "output_type": "stream",
          "text": [
            "fruits\n"
          ],
          "name": "stdout"
        }
      ]
    },
    {
      "cell_type": "code",
      "metadata": {
        "colab": {
          "base_uri": "https://localhost:8080/"
        },
        "id": "iOCrD8OvC12w",
        "outputId": "b06f4243-4f7c-4497-fdbf-04039b6988ff"
      },
      "source": [
        "print(e)"
      ],
      "execution_count": 22,
      "outputs": [
        {
          "output_type": "stream",
          "text": [
            "apple\n"
          ],
          "name": "stdout"
        }
      ]
    },
    {
      "cell_type": "code",
      "metadata": {
        "colab": {
          "base_uri": "https://localhost:8080/"
        },
        "id": "7X8CxQqnDAoH",
        "outputId": "fcb89202-42d4-41ea-9cc1-652b17668e96"
      },
      "source": [
        "print(fruits)"
      ],
      "execution_count": 23,
      "outputs": [
        {
          "output_type": "stream",
          "text": [
            "['apple', 'banana', 'strawberry', 'lemon', 'cherry']\n"
          ],
          "name": "stdout"
        }
      ]
    },
    {
      "cell_type": "code",
      "metadata": {
        "id": "ae2EK6_NDcF5"
      },
      "source": [
        "i = fruits[-1]"
      ],
      "execution_count": 24,
      "outputs": []
    },
    {
      "cell_type": "code",
      "metadata": {
        "colab": {
          "base_uri": "https://localhost:8080/"
        },
        "id": "WMRBlLnuDgYu",
        "outputId": "6bc568f4-e84d-4487-d087-c7fd9be2ebda"
      },
      "source": [
        "print(i)"
      ],
      "execution_count": 25,
      "outputs": [
        {
          "output_type": "stream",
          "text": [
            "cherry\n"
          ],
          "name": "stdout"
        }
      ]
    },
    {
      "cell_type": "code",
      "metadata": {
        "colab": {
          "base_uri": "https://localhost:8080/"
        },
        "id": "cmKhFEdqDiRe",
        "outputId": "4fc5978a-edba-4f77-ee40-67e632c56b6a"
      },
      "source": [
        "print(len(fruits))"
      ],
      "execution_count": 26,
      "outputs": [
        {
          "output_type": "stream",
          "text": [
            "5\n"
          ],
          "name": "stdout"
        }
      ]
    },
    {
      "cell_type": "code",
      "metadata": {
        "id": "vftn3TQyDk6o"
      },
      "source": [
        "def myfun():\n",
        "  global x\n",
        "  x = 'haryvon'\n",
        "  print(x)"
      ],
      "execution_count": 27,
      "outputs": []
    },
    {
      "cell_type": "code",
      "metadata": {
        "id": "Gd3gUmqGqsWv"
      },
      "source": [
        "x = 'animals'"
      ],
      "execution_count": 28,
      "outputs": []
    },
    {
      "cell_type": "code",
      "metadata": {
        "colab": {
          "base_uri": "https://localhost:8080/"
        },
        "id": "YwGwPfUhqv4c",
        "outputId": "0c69d8ff-b36e-4c67-b090-55b0b7d08898"
      },
      "source": [
        "print(x)"
      ],
      "execution_count": 29,
      "outputs": [
        {
          "output_type": "stream",
          "text": [
            "animals\n"
          ],
          "name": "stdout"
        }
      ]
    },
    {
      "cell_type": "code",
      "metadata": {
        "colab": {
          "base_uri": "https://localhost:8080/"
        },
        "id": "3SENfwzmq0OF",
        "outputId": "1011281e-1999-4a59-d98d-f625cdee97ce"
      },
      "source": [
        "myfun()"
      ],
      "execution_count": 30,
      "outputs": [
        {
          "output_type": "stream",
          "text": [
            "haryvon\n"
          ],
          "name": "stdout"
        }
      ]
    },
    {
      "cell_type": "code",
      "metadata": {
        "id": "052HY2PSrNGd"
      },
      "source": [
        "import random"
      ],
      "execution_count": 31,
      "outputs": []
    },
    {
      "cell_type": "code",
      "metadata": {
        "colab": {
          "base_uri": "https://localhost:8080/"
        },
        "id": "FNcb0kvbKWvG",
        "outputId": "bdeaf315-8774-450c-8e97-cb0a51d84e5f"
      },
      "source": [
        "for i in range(0, 5, 1):\n",
        "  print(i)"
      ],
      "execution_count": 32,
      "outputs": [
        {
          "output_type": "stream",
          "text": [
            "0\n",
            "1\n",
            "2\n",
            "3\n",
            "4\n"
          ],
          "name": "stdout"
        }
      ]
    },
    {
      "cell_type": "code",
      "metadata": {
        "colab": {
          "base_uri": "https://localhost:8080/"
        },
        "id": "JRe3ftenJunc",
        "outputId": "12ee05cd-d008-4043-ed12-3e6273d149e1"
      },
      "source": [
        "print(random.randrange(1,100))"
      ],
      "execution_count": 33,
      "outputs": [
        {
          "output_type": "stream",
          "text": [
            "45\n"
          ],
          "name": "stdout"
        }
      ]
    },
    {
      "cell_type": "code",
      "metadata": {
        "colab": {
          "base_uri": "https://localhost:8080/",
          "height": 528
        },
        "id": "7XsR0beN2Frs",
        "outputId": "070e2459-d131-44f6-a37a-8058437aeff4"
      },
      "source": [
        "x = int(input(\"x: \"))\n",
        "y = int(input(\"y: \"))\n",
        "\n",
        "if x > y:\n",
        "    print(\"x is larger than y\")\n",
        "elif x < y:\n",
        "    print(\"y is larger than x\")\n",
        "else:\n",
        "    print(\"x and y are equal\")"
      ],
      "execution_count": 34,
      "outputs": [
        {
          "output_type": "error",
          "ename": "KeyboardInterrupt",
          "evalue": "ignored",
          "traceback": [
            "\u001b[0;31m---------------------------------------------------------------------------\u001b[0m",
            "\u001b[0;31mKeyboardInterrupt\u001b[0m                         Traceback (most recent call last)",
            "\u001b[0;32m/usr/local/lib/python3.7/dist-packages/ipykernel/kernelbase.py\u001b[0m in \u001b[0;36m_input_request\u001b[0;34m(self, prompt, ident, parent, password)\u001b[0m\n\u001b[1;32m    728\u001b[0m             \u001b[0;32mtry\u001b[0m\u001b[0;34m:\u001b[0m\u001b[0;34m\u001b[0m\u001b[0;34m\u001b[0m\u001b[0m\n\u001b[0;32m--> 729\u001b[0;31m                 \u001b[0mident\u001b[0m\u001b[0;34m,\u001b[0m \u001b[0mreply\u001b[0m \u001b[0;34m=\u001b[0m \u001b[0mself\u001b[0m\u001b[0;34m.\u001b[0m\u001b[0msession\u001b[0m\u001b[0;34m.\u001b[0m\u001b[0mrecv\u001b[0m\u001b[0;34m(\u001b[0m\u001b[0mself\u001b[0m\u001b[0;34m.\u001b[0m\u001b[0mstdin_socket\u001b[0m\u001b[0;34m,\u001b[0m \u001b[0;36m0\u001b[0m\u001b[0;34m)\u001b[0m\u001b[0;34m\u001b[0m\u001b[0;34m\u001b[0m\u001b[0m\n\u001b[0m\u001b[1;32m    730\u001b[0m             \u001b[0;32mexcept\u001b[0m \u001b[0mException\u001b[0m\u001b[0;34m:\u001b[0m\u001b[0;34m\u001b[0m\u001b[0;34m\u001b[0m\u001b[0m\n",
            "\u001b[0;32m/usr/local/lib/python3.7/dist-packages/jupyter_client/session.py\u001b[0m in \u001b[0;36mrecv\u001b[0;34m(self, socket, mode, content, copy)\u001b[0m\n\u001b[1;32m    802\u001b[0m         \u001b[0;32mtry\u001b[0m\u001b[0;34m:\u001b[0m\u001b[0;34m\u001b[0m\u001b[0;34m\u001b[0m\u001b[0m\n\u001b[0;32m--> 803\u001b[0;31m             \u001b[0mmsg_list\u001b[0m \u001b[0;34m=\u001b[0m \u001b[0msocket\u001b[0m\u001b[0;34m.\u001b[0m\u001b[0mrecv_multipart\u001b[0m\u001b[0;34m(\u001b[0m\u001b[0mmode\u001b[0m\u001b[0;34m,\u001b[0m \u001b[0mcopy\u001b[0m\u001b[0;34m=\u001b[0m\u001b[0mcopy\u001b[0m\u001b[0;34m)\u001b[0m\u001b[0;34m\u001b[0m\u001b[0;34m\u001b[0m\u001b[0m\n\u001b[0m\u001b[1;32m    804\u001b[0m         \u001b[0;32mexcept\u001b[0m \u001b[0mzmq\u001b[0m\u001b[0;34m.\u001b[0m\u001b[0mZMQError\u001b[0m \u001b[0;32mas\u001b[0m \u001b[0me\u001b[0m\u001b[0;34m:\u001b[0m\u001b[0;34m\u001b[0m\u001b[0;34m\u001b[0m\u001b[0m\n",
            "\u001b[0;32m/usr/local/lib/python3.7/dist-packages/zmq/sugar/socket.py\u001b[0m in \u001b[0;36mrecv_multipart\u001b[0;34m(self, flags, copy, track)\u001b[0m\n\u001b[1;32m    582\u001b[0m         \"\"\"\n\u001b[0;32m--> 583\u001b[0;31m         \u001b[0mparts\u001b[0m \u001b[0;34m=\u001b[0m \u001b[0;34m[\u001b[0m\u001b[0mself\u001b[0m\u001b[0;34m.\u001b[0m\u001b[0mrecv\u001b[0m\u001b[0;34m(\u001b[0m\u001b[0mflags\u001b[0m\u001b[0;34m,\u001b[0m \u001b[0mcopy\u001b[0m\u001b[0;34m=\u001b[0m\u001b[0mcopy\u001b[0m\u001b[0;34m,\u001b[0m \u001b[0mtrack\u001b[0m\u001b[0;34m=\u001b[0m\u001b[0mtrack\u001b[0m\u001b[0;34m)\u001b[0m\u001b[0;34m]\u001b[0m\u001b[0;34m\u001b[0m\u001b[0;34m\u001b[0m\u001b[0m\n\u001b[0m\u001b[1;32m    584\u001b[0m         \u001b[0;31m# have first part already, only loop while more to receive\u001b[0m\u001b[0;34m\u001b[0m\u001b[0;34m\u001b[0m\u001b[0;34m\u001b[0m\u001b[0m\n",
            "\u001b[0;32mzmq/backend/cython/socket.pyx\u001b[0m in \u001b[0;36mzmq.backend.cython.socket.Socket.recv\u001b[0;34m()\u001b[0m\n",
            "\u001b[0;32mzmq/backend/cython/socket.pyx\u001b[0m in \u001b[0;36mzmq.backend.cython.socket.Socket.recv\u001b[0;34m()\u001b[0m\n",
            "\u001b[0;32mzmq/backend/cython/socket.pyx\u001b[0m in \u001b[0;36mzmq.backend.cython.socket._recv_copy\u001b[0;34m()\u001b[0m\n",
            "\u001b[0;32m/usr/local/lib/python3.7/dist-packages/zmq/backend/cython/checkrc.pxd\u001b[0m in \u001b[0;36mzmq.backend.cython.checkrc._check_rc\u001b[0;34m()\u001b[0m\n",
            "\u001b[0;31mKeyboardInterrupt\u001b[0m: ",
            "\nDuring handling of the above exception, another exception occurred:\n",
            "\u001b[0;31mKeyboardInterrupt\u001b[0m                         Traceback (most recent call last)",
            "\u001b[0;32m<ipython-input-34-ef1088117d86>\u001b[0m in \u001b[0;36m<module>\u001b[0;34m()\u001b[0m\n\u001b[0;32m----> 1\u001b[0;31m \u001b[0mx\u001b[0m \u001b[0;34m=\u001b[0m \u001b[0mint\u001b[0m\u001b[0;34m(\u001b[0m\u001b[0minput\u001b[0m\u001b[0;34m(\u001b[0m\u001b[0;34m\"x: \"\u001b[0m\u001b[0;34m)\u001b[0m\u001b[0;34m)\u001b[0m\u001b[0;34m\u001b[0m\u001b[0;34m\u001b[0m\u001b[0m\n\u001b[0m\u001b[1;32m      2\u001b[0m \u001b[0my\u001b[0m \u001b[0;34m=\u001b[0m \u001b[0mint\u001b[0m\u001b[0;34m(\u001b[0m\u001b[0minput\u001b[0m\u001b[0;34m(\u001b[0m\u001b[0;34m\"y: \"\u001b[0m\u001b[0;34m)\u001b[0m\u001b[0;34m)\u001b[0m\u001b[0;34m\u001b[0m\u001b[0;34m\u001b[0m\u001b[0m\n\u001b[1;32m      3\u001b[0m \u001b[0;34m\u001b[0m\u001b[0m\n\u001b[1;32m      4\u001b[0m \u001b[0;32mif\u001b[0m \u001b[0mx\u001b[0m \u001b[0;34m>\u001b[0m \u001b[0my\u001b[0m\u001b[0;34m:\u001b[0m\u001b[0;34m\u001b[0m\u001b[0;34m\u001b[0m\u001b[0m\n\u001b[1;32m      5\u001b[0m     \u001b[0mprint\u001b[0m\u001b[0;34m(\u001b[0m\u001b[0;34m\"x is larger than y\"\u001b[0m\u001b[0;34m)\u001b[0m\u001b[0;34m\u001b[0m\u001b[0;34m\u001b[0m\u001b[0m\n",
            "\u001b[0;32m/usr/local/lib/python3.7/dist-packages/ipykernel/kernelbase.py\u001b[0m in \u001b[0;36mraw_input\u001b[0;34m(self, prompt)\u001b[0m\n\u001b[1;32m    702\u001b[0m             \u001b[0mself\u001b[0m\u001b[0;34m.\u001b[0m\u001b[0m_parent_ident\u001b[0m\u001b[0;34m,\u001b[0m\u001b[0;34m\u001b[0m\u001b[0;34m\u001b[0m\u001b[0m\n\u001b[1;32m    703\u001b[0m             \u001b[0mself\u001b[0m\u001b[0;34m.\u001b[0m\u001b[0m_parent_header\u001b[0m\u001b[0;34m,\u001b[0m\u001b[0;34m\u001b[0m\u001b[0;34m\u001b[0m\u001b[0m\n\u001b[0;32m--> 704\u001b[0;31m             \u001b[0mpassword\u001b[0m\u001b[0;34m=\u001b[0m\u001b[0;32mFalse\u001b[0m\u001b[0;34m,\u001b[0m\u001b[0;34m\u001b[0m\u001b[0;34m\u001b[0m\u001b[0m\n\u001b[0m\u001b[1;32m    705\u001b[0m         )\n\u001b[1;32m    706\u001b[0m \u001b[0;34m\u001b[0m\u001b[0m\n",
            "\u001b[0;32m/usr/local/lib/python3.7/dist-packages/ipykernel/kernelbase.py\u001b[0m in \u001b[0;36m_input_request\u001b[0;34m(self, prompt, ident, parent, password)\u001b[0m\n\u001b[1;32m    732\u001b[0m             \u001b[0;32mexcept\u001b[0m \u001b[0mKeyboardInterrupt\u001b[0m\u001b[0;34m:\u001b[0m\u001b[0;34m\u001b[0m\u001b[0;34m\u001b[0m\u001b[0m\n\u001b[1;32m    733\u001b[0m                 \u001b[0;31m# re-raise KeyboardInterrupt, to truncate traceback\u001b[0m\u001b[0;34m\u001b[0m\u001b[0;34m\u001b[0m\u001b[0;34m\u001b[0m\u001b[0m\n\u001b[0;32m--> 734\u001b[0;31m                 \u001b[0;32mraise\u001b[0m \u001b[0mKeyboardInterrupt\u001b[0m\u001b[0;34m\u001b[0m\u001b[0;34m\u001b[0m\u001b[0m\n\u001b[0m\u001b[1;32m    735\u001b[0m             \u001b[0;32melse\u001b[0m\u001b[0;34m:\u001b[0m\u001b[0;34m\u001b[0m\u001b[0;34m\u001b[0m\u001b[0m\n\u001b[1;32m    736\u001b[0m                 \u001b[0;32mbreak\u001b[0m\u001b[0;34m\u001b[0m\u001b[0;34m\u001b[0m\u001b[0m\n",
            "\u001b[0;31mKeyboardInterrupt\u001b[0m: "
          ]
        }
      ]
    },
    {
      "cell_type": "code",
      "metadata": {
        "id": "qRkY18zJ2H0Q"
      },
      "source": [
        "def main():\n",
        "  for i in range(3):\n",
        "    meow()\n",
        "\n",
        "\n",
        "def meow():\n",
        "  print('meow')\n",
        "\n",
        "main()"
      ],
      "execution_count": null,
      "outputs": []
    },
    {
      "cell_type": "code",
      "metadata": {
        "id": "75JaedFm6rqo"
      },
      "source": [
        "def main():\n",
        "    meow(2)\n",
        "\n",
        "\n",
        "def meow(n):\n",
        "  for i in range(n):  \n",
        "    print('meow')\n",
        "\n",
        "main()"
      ],
      "execution_count": null,
      "outputs": []
    },
    {
      "cell_type": "code",
      "metadata": {
        "id": "wQWz7GibAnQt"
      },
      "source": [
        "#score = [57, 60, 70]\n",
        "\n",
        "#average = sum(score) / len(score)\n",
        "\n",
        "#print(f\"the average score is {average} \")"
      ],
      "execution_count": null,
      "outputs": []
    },
    {
      "cell_type": "code",
      "metadata": {
        "id": "21FLQUCFDJBK"
      },
      "source": [
        "scores = []\n",
        "\n",
        "for i in range(3):\n",
        "  scores.append(int(input('Scores: ')))\n",
        "\n",
        "average = sum(scores) / len(scores)\n",
        "\n",
        "print(f\"the average score is {average} \")"
      ],
      "execution_count": null,
      "outputs": []
    },
    {
      "cell_type": "code",
      "metadata": {
        "id": "kmTa6cW6Im6j"
      },
      "source": [
        "row_1 = ['Facebook', 0.0, 'USD', 2974676, 3.5]\n",
        "row_2 = ['Instagram', 0.0, 'USD', 2161558, 4.5]\n",
        "row_3 = ['Clash of Clans', 0.0, 'USD', 2130805, 4.5]\n",
        "row_4 = ['Temple Run', 0.0, 'USD', 1724546, 4.5]\n",
        "row_5 = ['Pandora - Music & Radio', 0.0, 'USD', 1126879, 4.0]\n",
        "\n",
        "fb_rating_data = [row_1[0], row_1[3], row_1[4]]\n",
        "isnta_rating_data = [row_2[0], row_2[3], row_2[4]]\n",
        "pandora_rating_data = [row_5[0], row_5[3], row_5[4]]\n",
        "\n",
        "avg_rating = (fb_rating_data[2] + isnta_rating_data[2] + pandora_rating_data[2]) / 3\n",
        "\n",
        "#average = total / 3\n",
        "\n",
        "print(avg_rating)\n",
        "\n",
        "#avg_rating = fb_rating_data[2] + insta_rating_data[2] + pandora_rating_data[2]"
      ],
      "execution_count": null,
      "outputs": []
    },
    {
      "cell_type": "code",
      "metadata": {
        "id": "JBFwU94vkOOi"
      },
      "source": [
        "row_1 = ['Facebook', 0.0, 'USD', 2974676, 3.5]\n",
        "row_2 = ['Instagram', 0.0, 'USD', 2161558, 4.5]\n",
        "row_3 = ['Clash of Clans', 0.0, 'USD', 2130805, 4.5]\n",
        "row_4 = ['Temple Run', 0.0, 'USD', 1724546, 4.5]\n",
        "row_5 = ['Pandora - Music & Radio', 0.0, 'USD', 1126879, 4.0]\n",
        "\n",
        "dataset = [row_1, row_2, row_3, row_4, row_5]\n",
        "\n",
        "total = dataset[0][-1] + dataset[1][-1]\n",
        "\n",
        "print(total)"
      ],
      "execution_count": null,
      "outputs": []
    },
    {
      "cell_type": "code",
      "metadata": {
        "id": "nYnPdNmjmuju"
      },
      "source": [
        "row_1 = ['Facebook', 0.0, 'USD', 2974676, 3.5]\n",
        "row_2 = ['Instagram', 0.0, 'USD', 2161558, 4.5]\n",
        "row_3 = ['Clash of Clans', 0.0, 'USD', 2130805, 4.5]\n",
        "row_4 = ['Temple Run', 0.0, 'USD', 1724546, 4.5]\n",
        "row_5 = ['Pandora - Music & Radio', 0.0, 'USD', 1126879, 4.0]\n",
        "\n",
        "#version1\n",
        "app_data_set = [row_1, row_2, row_3, row_4, row_5]\n",
        "\n",
        "avg_rating = (app_data_set[0][-1] + app_data_set[1][-1] + app_data_set[2][-1] + app_data_set[3][-1] + app_data_set[4][-1]) / 5\n",
        "\n",
        "print(avg_rating)\n",
        "\n",
        "#version2\n",
        "\n",
        "add = []\n",
        "for eachrow in app_data_set:\n",
        "  rating = eachrow[-1]\n",
        "  add.append(rating)\n",
        "  print(sum(add) / 5)\n",
        "print(sum(add) / 5)\n",
        "\n",
        "#version3\n",
        "\n",
        "add = 0\n",
        "for eachrow in app_data_set:\n",
        "  rating = eachrow[-1]\n",
        "  add += rating\n",
        "  average_rating = add / 5\n",
        "  print(average_rating)\n",
        "print(average_rating)\n",
        "\n"
      ],
      "execution_count": null,
      "outputs": []
    },
    {
      "cell_type": "code",
      "metadata": {
        "colab": {
          "base_uri": "https://localhost:8080/"
        },
        "id": "ymh5Gf-fzl46",
        "outputId": "932d2851-97ff-4166-8505-700c44bbea57"
      },
      "source": [
        "%%writefile newfile.txt\n",
        "This is my first file\n",
        "this is second line in my file\n",
        "this is the third line"
      ],
      "execution_count": 37,
      "outputs": [
        {
          "output_type": "stream",
          "text": [
            "Writing newfile.txt\n"
          ],
          "name": "stdout"
        }
      ]
    },
    {
      "cell_type": "code",
      "metadata": {
        "id": "Rdyn-8Br06Cp"
      },
      "source": [
        "myfile = open('newfile.txt')"
      ],
      "execution_count": 38,
      "outputs": []
    },
    {
      "cell_type": "code",
      "metadata": {
        "id": "RoET3JTL9D9N"
      },
      "source": [
        "pwd"
      ],
      "execution_count": null,
      "outputs": []
    },
    {
      "cell_type": "code",
      "metadata": {
        "id": "Nbrqz32s9Odu"
      },
      "source": [
        "ls"
      ],
      "execution_count": null,
      "outputs": []
    },
    {
      "cell_type": "code",
      "metadata": {
        "colab": {
          "base_uri": "https://localhost:8080/",
          "height": 35
        },
        "id": "GTrj8FtM9QaV",
        "outputId": "6c0ec785-2e31-4348-9d71-746a016c93cb"
      },
      "source": [
        "myfile.read()"
      ],
      "execution_count": 39,
      "outputs": [
        {
          "output_type": "execute_result",
          "data": {
            "application/vnd.google.colaboratory.intrinsic+json": {
              "type": "string"
            },
            "text/plain": [
              "'This is my first file\\nthis is second line in my file\\nthis is the third line'"
            ]
          },
          "metadata": {
            "tags": []
          },
          "execution_count": 39
        }
      ]
    },
    {
      "cell_type": "code",
      "metadata": {
        "colab": {
          "base_uri": "https://localhost:8080/",
          "height": 35
        },
        "id": "o3BhoN4g9e6-",
        "outputId": "5d77a4bb-3425-4abe-ffb7-0a7ed660cb26"
      },
      "source": [
        "myfile.read()"
      ],
      "execution_count": 40,
      "outputs": [
        {
          "output_type": "execute_result",
          "data": {
            "application/vnd.google.colaboratory.intrinsic+json": {
              "type": "string"
            },
            "text/plain": [
              "''"
            ]
          },
          "metadata": {
            "tags": []
          },
          "execution_count": 40
        }
      ]
    },
    {
      "cell_type": "code",
      "metadata": {
        "colab": {
          "base_uri": "https://localhost:8080/"
        },
        "id": "VGwLXTN_9i1f",
        "outputId": "f77a8d04-b1b0-432d-dda4-10593e280a87"
      },
      "source": [
        "myfile.seek(0)"
      ],
      "execution_count": 41,
      "outputs": [
        {
          "output_type": "execute_result",
          "data": {
            "text/plain": [
              "0"
            ]
          },
          "metadata": {
            "tags": []
          },
          "execution_count": 41
        }
      ]
    },
    {
      "cell_type": "code",
      "metadata": {
        "id": "RTvJW86h9mrl"
      },
      "source": [
        "contents = myfile.read()"
      ],
      "execution_count": 42,
      "outputs": []
    },
    {
      "cell_type": "code",
      "metadata": {
        "colab": {
          "base_uri": "https://localhost:8080/",
          "height": 35
        },
        "id": "imsEiaFH90lJ",
        "outputId": "873278d6-412e-4f79-db07-5d269182e4b6"
      },
      "source": [
        "contents"
      ],
      "execution_count": 43,
      "outputs": [
        {
          "output_type": "execute_result",
          "data": {
            "application/vnd.google.colaboratory.intrinsic+json": {
              "type": "string"
            },
            "text/plain": [
              "'This is my first file\\nthis is second line in my file\\nthis is the third line'"
            ]
          },
          "metadata": {
            "tags": []
          },
          "execution_count": 43
        }
      ]
    },
    {
      "cell_type": "code",
      "metadata": {
        "colab": {
          "base_uri": "https://localhost:8080/"
        },
        "id": "0C9e68mG97tU",
        "outputId": "0bbe2299-b91a-4855-ebd2-1875bed44010"
      },
      "source": [
        "myfile.readlines()"
      ],
      "execution_count": 44,
      "outputs": [
        {
          "output_type": "execute_result",
          "data": {
            "text/plain": [
              "[]"
            ]
          },
          "metadata": {
            "tags": []
          },
          "execution_count": 44
        }
      ]
    },
    {
      "cell_type": "code",
      "metadata": {
        "id": "2EfXT0faE1NZ"
      },
      "source": [
        "myfile.close()"
      ],
      "execution_count": 45,
      "outputs": []
    },
    {
      "cell_type": "code",
      "metadata": {
        "id": "Fk-SBaWMFGAO"
      },
      "source": [
        "with open('newfile.txt') as newnewfile:\n",
        "  contents = newnewfile.read()"
      ],
      "execution_count": 46,
      "outputs": []
    },
    {
      "cell_type": "code",
      "metadata": {
        "colab": {
          "base_uri": "https://localhost:8080/",
          "height": 35
        },
        "id": "RRDblufRFdVe",
        "outputId": "b60dd929-c4d3-442a-941e-a748b0f721ed"
      },
      "source": [
        "contents"
      ],
      "execution_count": 47,
      "outputs": [
        {
          "output_type": "execute_result",
          "data": {
            "application/vnd.google.colaboratory.intrinsic+json": {
              "type": "string"
            },
            "text/plain": [
              "'This is my first file\\nthis is second line in my file\\nthis is the third line'"
            ]
          },
          "metadata": {
            "tags": []
          },
          "execution_count": 47
        }
      ]
    },
    {
      "cell_type": "code",
      "metadata": {
        "colab": {
          "base_uri": "https://localhost:8080/"
        },
        "id": "rTWqAUgyFfnq",
        "outputId": "7a190307-ed79-4879-ad8d-2a6a737dfa3c"
      },
      "source": [
        "type(contents)"
      ],
      "execution_count": 48,
      "outputs": [
        {
          "output_type": "execute_result",
          "data": {
            "text/plain": [
              "str"
            ]
          },
          "metadata": {
            "tags": []
          },
          "execution_count": 48
        }
      ]
    },
    {
      "cell_type": "code",
      "metadata": {
        "colab": {
          "base_uri": "https://localhost:8080/"
        },
        "id": "MHR8aVAfF5LP",
        "outputId": "3b6bccb5-119b-4d59-c0de-88e44e85a7eb"
      },
      "source": [
        "type(newnewfile)"
      ],
      "execution_count": 49,
      "outputs": [
        {
          "output_type": "execute_result",
          "data": {
            "text/plain": [
              "_io.TextIOWrapper"
            ]
          },
          "metadata": {
            "tags": []
          },
          "execution_count": 49
        }
      ]
    },
    {
      "cell_type": "code",
      "metadata": {
        "colab": {
          "base_uri": "https://localhost:8080/"
        },
        "id": "h5ag3bpYF62l",
        "outputId": "23fab8d4-88fd-44a8-83ad-d8732714bd3f"
      },
      "source": [
        "%%writefile brandnewfile.txt\n",
        "no battery\n",
        "two battery\n",
        "charge the batter"
      ],
      "execution_count": 52,
      "outputs": [
        {
          "output_type": "stream",
          "text": [
            "Writing brandnewfile.txt\n"
          ],
          "name": "stdout"
        }
      ]
    },
    {
      "cell_type": "code",
      "metadata": {
        "id": "If_FlLxTQf_8"
      },
      "source": [
        "onetext = open('brandnewfile.txt')"
      ],
      "execution_count": 53,
      "outputs": []
    },
    {
      "cell_type": "code",
      "metadata": {
        "id": "QTEbDrWVQ6l-"
      },
      "source": [
        "contents2 = onetext"
      ],
      "execution_count": 54,
      "outputs": []
    },
    {
      "cell_type": "code",
      "metadata": {
        "colab": {
          "base_uri": "https://localhost:8080/"
        },
        "id": "dBj9F7gORGlM",
        "outputId": "cac0b6bc-b0b9-457b-c6b0-ed9d4e84a5c7"
      },
      "source": [
        "contents2.readlines()"
      ],
      "execution_count": 65,
      "outputs": [
        {
          "output_type": "execute_result",
          "data": {
            "text/plain": [
              "['no battery\\n', 'two battery\\n', 'charge the batter']"
            ]
          },
          "metadata": {
            "tags": []
          },
          "execution_count": 65
        }
      ]
    },
    {
      "cell_type": "code",
      "metadata": {
        "colab": {
          "base_uri": "https://localhost:8080/"
        },
        "id": "u-On2cDNRMJS",
        "outputId": "f2540031-1b70-4b69-eb15-ccdc7cc7beaf"
      },
      "source": [
        "onetext.seek(0)"
      ],
      "execution_count": 73,
      "outputs": [
        {
          "output_type": "execute_result",
          "data": {
            "text/plain": [
              "0"
            ]
          },
          "metadata": {
            "tags": []
          },
          "execution_count": 73
        }
      ]
    },
    {
      "cell_type": "code",
      "metadata": {
        "colab": {
          "base_uri": "https://localhost:8080/"
        },
        "id": "rTc8DYffRPLj",
        "outputId": "77c38dd0-6c21-42a2-9b8e-a727cdfab83d"
      },
      "source": [
        "onetext.readlines()"
      ],
      "execution_count": 77,
      "outputs": [
        {
          "output_type": "execute_result",
          "data": {
            "text/plain": [
              "['no battery\\n', 'two battery\\n', 'charge the batter']"
            ]
          },
          "metadata": {
            "tags": []
          },
          "execution_count": 77
        }
      ]
    },
    {
      "cell_type": "code",
      "metadata": {
        "id": "iARZh1KxRcZR"
      },
      "source": [
        "with open('onetext', mode='a') as c:\n",
        "  c.write('This is fourth line')\n"
      ],
      "execution_count": 70,
      "outputs": []
    },
    {
      "cell_type": "code",
      "metadata": {
        "colab": {
          "base_uri": "https://localhost:8080/"
        },
        "id": "-QLVfaqtRxVe",
        "outputId": "72f16219-f7fa-40ff-b9cf-cdfee7a88e82"
      },
      "source": [
        "with open('onetext', mode='r') as c:\n",
        "  print(c.readlines())"
      ],
      "execution_count": 78,
      "outputs": [
        {
          "output_type": "stream",
          "text": [
            "['This is fourth line']\n"
          ],
          "name": "stdout"
        }
      ]
    },
    {
      "cell_type": "code",
      "metadata": {
        "colab": {
          "base_uri": "https://localhost:8080/"
        },
        "id": "boco4SiUbKGe",
        "outputId": "b5e9e501-bd24-49ca-b1b2-3448c55467a9"
      },
      "source": [
        "#Comparing Operators\n",
        "\n",
        "2 ** 2 != 4"
      ],
      "execution_count": 83,
      "outputs": [
        {
          "output_type": "execute_result",
          "data": {
            "text/plain": [
              "False"
            ]
          },
          "metadata": {
            "tags": []
          },
          "execution_count": 83
        }
      ]
    },
    {
      "cell_type": "code",
      "metadata": {
        "colab": {
          "base_uri": "https://localhost:8080/"
        },
        "id": "Wm7Jn3o7bNb1",
        "outputId": "a8d65e9b-4937-41ed-e0ee-76baf0b2b318"
      },
      "source": [
        "2 ** 0.5 == 5"
      ],
      "execution_count": 84,
      "outputs": [
        {
          "output_type": "execute_result",
          "data": {
            "text/plain": [
              "False"
            ]
          },
          "metadata": {
            "tags": []
          },
          "execution_count": 84
        }
      ]
    },
    {
      "cell_type": "code",
      "metadata": {
        "id": "LpK7sfVicgBv"
      },
      "source": [
        "#List unpacking. you store tuples in your list and retrieve the part you need to print out first. cool shit\n",
        "list = [(1,2), (3,4), (5,6), (7,8), (9,10)]"
      ],
      "execution_count": 85,
      "outputs": []
    },
    {
      "cell_type": "code",
      "metadata": {
        "colab": {
          "base_uri": "https://localhost:8080/"
        },
        "id": "utLkjR66J_GC",
        "outputId": "78a1913f-0ba0-4918-984b-96cd7fd5e476"
      },
      "source": [
        "for a, b in list:\n",
        "  print(a)"
      ],
      "execution_count": 86,
      "outputs": [
        {
          "output_type": "stream",
          "text": [
            "1\n",
            "3\n",
            "5\n",
            "7\n",
            "9\n"
          ],
          "name": "stdout"
        }
      ]
    },
    {
      "cell_type": "code",
      "metadata": {
        "id": "Dm7lqzi1KDcc"
      },
      "source": [
        "d = {'36': 'D', '35': '8'}"
      ],
      "execution_count": 165,
      "outputs": []
    },
    {
      "cell_type": "code",
      "metadata": {
        "colab": {
          "base_uri": "https://localhost:8080/"
        },
        "id": "vVK8FsMsTKcP",
        "outputId": "6dad71b8-e341-45ff-aa78-6c841962ef3a"
      },
      "source": [
        "for key,value in d.items():\n",
        "  print(key,value)"
      ],
      "execution_count": 166,
      "outputs": [
        {
          "output_type": "stream",
          "text": [
            "36 D\n",
            "35 8\n"
          ],
          "name": "stdout"
        }
      ]
    },
    {
      "cell_type": "code",
      "metadata": {
        "colab": {
          "base_uri": "https://localhost:8080/"
        },
        "id": "gs7W6sdcTUEz",
        "outputId": "a766c71e-67b2-4fc9-82a7-27b55766aece"
      },
      "source": [
        "len(d)"
      ],
      "execution_count": 133,
      "outputs": [
        {
          "output_type": "execute_result",
          "data": {
            "text/plain": [
              "2"
            ]
          },
          "metadata": {
            "tags": []
          },
          "execution_count": 133
        }
      ]
    },
    {
      "cell_type": "code",
      "metadata": {
        "id": "ea_i3kZtTaqu"
      },
      "source": [
        "#time to spend some time on while loops\n",
        "#Break, continue and pass\n",
        "#Break: Breaks out of the current closest inclosing loop\n",
        "#Continue: Goes to the top of the closest inclosing loop\n",
        "#Pass: Does nothing at all"
      ],
      "execution_count": 185,
      "outputs": []
    },
    {
      "cell_type": "code",
      "metadata": {
        "colab": {
          "base_uri": "https://localhost:8080/"
        },
        "id": "VUBHKQQ-c7eF",
        "outputId": "e5bcd08d-c233-4066-a57a-d67fe80a69da"
      },
      "source": [
        "x = 0\n",
        "\n",
        "while x < 5:\n",
        "  x += 1\n",
        "  print('This is great')\n",
        "else:\n",
        "  print('time to break shit')\n",
        "  "
      ],
      "execution_count": 183,
      "outputs": [
        {
          "output_type": "stream",
          "text": [
            "This is great\n",
            "This is great\n",
            "This is great\n",
            "This is great\n",
            "This is great\n",
            "time to break shit\n"
          ],
          "name": "stdout"
        }
      ]
    },
    {
      "cell_type": "code",
      "metadata": {
        "id": "Pik0WONRfag9"
      },
      "source": [
        "#Pass. Since pass does nothing, sometimes programmers pass the for loop as a place holder for something for a different time\n",
        "\n",
        "y = [1, 2, 3]\n",
        "\n",
        "for p in y:\n",
        "  #comment\n",
        "  pass"
      ],
      "execution_count": 4,
      "outputs": []
    },
    {
      "cell_type": "code",
      "metadata": {
        "colab": {
          "base_uri": "https://localhost:8080/"
        },
        "id": "OnxXZX52uvkU",
        "outputId": "0ef8bb46-372c-4ae5-9289-298268985339"
      },
      "source": [
        "#Break\n",
        "\n",
        "#When the condition for our if condition is met we are asking python to break the loop and stop the iteration\n",
        "\n",
        "x = [1,2, 3, 4, 5]\n",
        "\n",
        "for l in x:\n",
        "  if l == 3:\n",
        "    break\n",
        "  print(l)"
      ],
      "execution_count": 7,
      "outputs": [
        {
          "output_type": "stream",
          "text": [
            "1\n",
            "2\n"
          ],
          "name": "stdout"
        }
      ]
    },
    {
      "cell_type": "code",
      "metadata": {
        "colab": {
          "base_uri": "https://localhost:8080/"
        },
        "id": "3K_MI32FKXtB",
        "outputId": "1c870b70-04f0-4297-efa0-9c224884bcac"
      },
      "source": [
        "name = input('What is your name?')\n",
        "\n",
        "#regular with concatenation\n",
        "print('Hello ' + '' + name.title())\n",
        "#with format\n",
        "print('Hello {}'.format(name.title()))\n",
        "#with f string\n",
        "print(f'Hello {name.title()}')"
      ],
      "execution_count": 7,
      "outputs": [
        {
          "output_type": "stream",
          "text": [
            "What is your name?somi\n",
            "Hello Somi\n",
            "Hello Somi\n",
            "Hello Somi\n"
          ],
          "name": "stdout"
        }
      ]
    },
    {
      "cell_type": "code",
      "metadata": {
        "colab": {
          "base_uri": "https://localhost:8080/"
        },
        "id": "r4ipOUms3GQl",
        "outputId": "5694f5ab-33a3-4c82-8a5e-6dc58aef1ef8"
      },
      "source": [
        "mynum = 0\n",
        "\n",
        "for letters in 'abcdefg':\n",
        "  print('Here are numbers {} for each letter {}'.format(mynum, letters))\n",
        "  mynum += 1\n"
      ],
      "execution_count": 9,
      "outputs": [
        {
          "output_type": "stream",
          "text": [
            "Here are numbers 0 for each letter a\n",
            "Here are numbers 1 for each letter b\n",
            "Here are numbers 2 for each letter c\n",
            "Here are numbers 3 for each letter d\n",
            "Here are numbers 4 for each letter e\n",
            "Here are numbers 5 for each letter f\n",
            "Here are numbers 6 for each letter g\n"
          ],
          "name": "stdout"
        }
      ]
    },
    {
      "cell_type": "code",
      "metadata": {
        "colab": {
          "base_uri": "https://localhost:8080/"
        },
        "id": "GdRw1XWM4mX-",
        "outputId": "217fa9e0-18d3-4c18-c8cb-40ae1281c098"
      },
      "source": [
        "#enumerate python function is pretty fucking cool\n",
        "letters = 'abcdefghijklnmop'\n",
        "\n",
        "for item in enumerate(letters):\n",
        "  print(item)"
      ],
      "execution_count": 10,
      "outputs": [
        {
          "output_type": "stream",
          "text": [
            "(0, 'a')\n",
            "(1, 'b')\n",
            "(2, 'c')\n",
            "(3, 'd')\n",
            "(4, 'e')\n",
            "(5, 'f')\n",
            "(6, 'g')\n",
            "(7, 'h')\n",
            "(8, 'i')\n",
            "(9, 'j')\n",
            "(10, 'k')\n",
            "(11, 'l')\n",
            "(12, 'n')\n",
            "(13, 'm')\n",
            "(14, 'o')\n",
            "(15, 'p')\n"
          ],
          "name": "stdout"
        }
      ]
    },
    {
      "cell_type": "code",
      "metadata": {
        "colab": {
          "base_uri": "https://localhost:8080/"
        },
        "id": "tsJESvVZ46p8",
        "outputId": "fe4d4f2c-1989-4028-d38c-d566a570dc4d"
      },
      "source": [
        "#zip function that adds two lists into one like your jacker zipper brah\n",
        "myzip1 = [1, 2, 3]\n",
        "myzip2 = ['a', 'b', 'c']\n",
        "\n",
        "zip(myzip1, myzip2)"
      ],
      "execution_count": 11,
      "outputs": [
        {
          "output_type": "execute_result",
          "data": {
            "text/plain": [
              "<zip at 0x7f988dab8640>"
            ]
          },
          "metadata": {
            "tags": []
          },
          "execution_count": 11
        }
      ]
    },
    {
      "cell_type": "code",
      "metadata": {
        "colab": {
          "base_uri": "https://localhost:8080/"
        },
        "id": "p9nrPg5i5gwP",
        "outputId": "37027c97-b18e-4494-f51c-7a14691f9d77"
      },
      "source": [
        "for item in zip(myzip1, myzip2):\n",
        "  print(item)"
      ],
      "execution_count": 12,
      "outputs": [
        {
          "output_type": "stream",
          "text": [
            "(1, 'a')\n",
            "(2, 'b')\n",
            "(3, 'c')\n"
          ],
          "name": "stdout"
        }
      ]
    },
    {
      "cell_type": "code",
      "metadata": {
        "colab": {
          "base_uri": "https://localhost:8080/"
        },
        "id": "xpClGpmb5n8f",
        "outputId": "28c77bfc-6375-4da9-f889-3731ea98c58d"
      },
      "source": [
        "#in operator\n",
        "\n",
        "mylist = [1,2,3,4,5,6,7,8,9,10]\n",
        "\n",
        "4 in mylist\n",
        "\n",
        "#shuffle your numbers\n",
        "from random import shuffle\n",
        "\n",
        "shuffle(mylist)\n",
        "\n",
        "mylist\n",
        "\n",
        "#randint returns random numbers from the enclosed range - pretty cool\n",
        "from random import randint\n",
        "\n",
        "randint(1, 100)"
      ],
      "execution_count": 32,
      "outputs": [
        {
          "output_type": "execute_result",
          "data": {
            "text/plain": [
              "79"
            ]
          },
          "metadata": {
            "tags": []
          },
          "execution_count": 32
        }
      ]
    },
    {
      "cell_type": "code",
      "metadata": {
        "colab": {
          "base_uri": "https://localhost:8080/"
        },
        "id": "M2oOWDjH6B6A",
        "outputId": "7fc520e1-e7ea-40df-9e94-4baf19400645"
      },
      "source": [
        "#list comprehension. writing your for loop in one liner\n",
        "\n",
        "my_list = []\n",
        "\n",
        "for item in range(10):\n",
        "  my_list.append(item)\n",
        "\n",
        "print(my_list)\n",
        "\n",
        "#converting above to list comprehension now\n",
        "\n",
        "my_list2 = [item for item in range(10)]\n",
        "\n",
        "my_list2"
      ],
      "execution_count": 45,
      "outputs": [
        {
          "output_type": "stream",
          "text": [
            "[0, 1, 2, 3, 4, 5, 6, 7, 8, 9]\n"
          ],
          "name": "stdout"
        },
        {
          "output_type": "execute_result",
          "data": {
            "text/plain": [
              "[0, 1, 2, 3, 4, 5, 6, 7, 8, 9]"
            ]
          },
          "metadata": {
            "tags": []
          },
          "execution_count": 45
        }
      ]
    },
    {
      "cell_type": "code",
      "metadata": {
        "colab": {
          "base_uri": "https://localhost:8080/"
        },
        "id": "OKKqInmB9gJG",
        "outputId": "08cc636f-6a03-4f84-89a3-4605e5315100"
      },
      "source": [
        "st = 'Print the words that start with s only and print them outs'\n",
        "\n",
        "x = st.split()\n",
        "\n",
        "for word in x:\n",
        "  if word.startswith('s'):\n",
        "    print(word)\n",
        "\n",
        "print(x)"
      ],
      "execution_count": 1,
      "outputs": [
        {
          "output_type": "stream",
          "text": [
            "start\n",
            "s\n",
            "['Print', 'the', 'words', 'that', 'start', 'with', 's', 'only', 'and', 'print', 'them', 'outs']\n"
          ],
          "name": "stdout"
        }
      ]
    },
    {
      "cell_type": "code",
      "metadata": {
        "colab": {
          "base_uri": "https://localhost:8080/"
        },
        "id": "EfmpDePiBhtx",
        "outputId": "4b81911b-632d-4373-c3be-3d07db8a1119"
      },
      "source": [
        "#use range to print all even numbers from 0 to 10\n",
        "\n",
        "num = []\n",
        "\n",
        "for n in range(0,11,2):\n",
        "  num.append(n)\n",
        "\n",
        "print(num)\n"
      ],
      "execution_count": 25,
      "outputs": [
        {
          "output_type": "stream",
          "text": [
            "[0, 2, 4, 6, 8, 10]\n"
          ],
          "name": "stdout"
        }
      ]
    },
    {
      "cell_type": "code",
      "metadata": {
        "colab": {
          "base_uri": "https://localhost:8080/"
        },
        "id": "9bx2er6_BTYv",
        "outputId": "18333ca9-c263-4592-b7eb-e6c70ba9cdda"
      },
      "source": [
        "#using list comprehension to write the code\n",
        "lnum = [l for l in range(1,51) if l%3==0]\n",
        "\n",
        "#old fashioned\n",
        "# for l in range(1,51):\n",
        "#   if l%3==0:\n",
        "#     lnum.append(l)\n",
        "print(lnum)\n"
      ],
      "execution_count": 35,
      "outputs": [
        {
          "output_type": "stream",
          "text": [
            "[3, 6, 9, 12, 15, 18, 21, 24, 27, 30, 33, 36, 39, 42, 45, 48]\n"
          ],
          "name": "stdout"
        }
      ]
    },
    {
      "cell_type": "code",
      "metadata": {
        "colab": {
          "base_uri": "https://localhost:8080/"
        },
        "id": "o8cO7lCvFovX",
        "outputId": "99d89eb2-0170-44e5-eb30-73222cd564eb"
      },
      "source": [
        "#print even if the lenght of the word is even\n",
        "\n",
        "st ='Print,every,word,in,this,sentence,that,has,an,even,number,of,letters'\n",
        "\n",
        "words = st.split(',')\n",
        "print(words)\n",
        "for word in words:\n",
        "  if len(word)%2==0:\n",
        "    print(word)\n",
        "\n",
        "\n"
      ],
      "execution_count": 69,
      "outputs": [
        {
          "output_type": "stream",
          "text": [
            "['Print', 'every', 'word', 'in', 'this', 'sentence', 'that', 'has', 'an', 'even', 'number', 'of', 'letters']\n",
            "word\n",
            "in\n",
            "this\n",
            "sentence\n",
            "that\n",
            "an\n",
            "even\n",
            "number\n",
            "of\n"
          ],
          "name": "stdout"
        }
      ]
    },
    {
      "cell_type": "code",
      "metadata": {
        "colab": {
          "base_uri": "https://localhost:8080/"
        },
        "id": "zB7MlwhiGQxS",
        "outputId": "64de1f55-2b86-447b-9521-69dd956661ad"
      },
      "source": [
        "for crazy_num in range(1, 101):\n",
        "  if crazy_num % 3 == 0 or crazy_num % 5 == 0:\n",
        "    print('FizzBuzz')\n",
        "  elif crazy_num % 3 == 0:\n",
        "    print('FIzz')\n",
        "  elif crazy_num % 5 == 0:\n",
        "    print('Buzz')\n",
        "  else:\n",
        "    print(crazy_num)\n"
      ],
      "execution_count": 1,
      "outputs": [
        {
          "output_type": "stream",
          "text": [
            "1\n",
            "2\n",
            "FizzBuzz\n",
            "4\n",
            "FizzBuzz\n",
            "FizzBuzz\n",
            "7\n",
            "8\n",
            "FizzBuzz\n",
            "FizzBuzz\n",
            "11\n",
            "FizzBuzz\n",
            "13\n",
            "14\n",
            "FizzBuzz\n",
            "16\n",
            "17\n",
            "FizzBuzz\n",
            "19\n",
            "FizzBuzz\n",
            "FizzBuzz\n",
            "22\n",
            "23\n",
            "FizzBuzz\n",
            "FizzBuzz\n",
            "26\n",
            "FizzBuzz\n",
            "28\n",
            "29\n",
            "FizzBuzz\n",
            "31\n",
            "32\n",
            "FizzBuzz\n",
            "34\n",
            "FizzBuzz\n",
            "FizzBuzz\n",
            "37\n",
            "38\n",
            "FizzBuzz\n",
            "FizzBuzz\n",
            "41\n",
            "FizzBuzz\n",
            "43\n",
            "44\n",
            "FizzBuzz\n",
            "46\n",
            "47\n",
            "FizzBuzz\n",
            "49\n",
            "FizzBuzz\n",
            "FizzBuzz\n",
            "52\n",
            "53\n",
            "FizzBuzz\n",
            "FizzBuzz\n",
            "56\n",
            "FizzBuzz\n",
            "58\n",
            "59\n",
            "FizzBuzz\n",
            "61\n",
            "62\n",
            "FizzBuzz\n",
            "64\n",
            "FizzBuzz\n",
            "FizzBuzz\n",
            "67\n",
            "68\n",
            "FizzBuzz\n",
            "FizzBuzz\n",
            "71\n",
            "FizzBuzz\n",
            "73\n",
            "74\n",
            "FizzBuzz\n",
            "76\n",
            "77\n",
            "FizzBuzz\n",
            "79\n",
            "FizzBuzz\n",
            "FizzBuzz\n",
            "82\n",
            "83\n",
            "FizzBuzz\n",
            "FizzBuzz\n",
            "86\n",
            "FizzBuzz\n",
            "88\n",
            "89\n",
            "FizzBuzz\n",
            "91\n",
            "92\n",
            "FizzBuzz\n",
            "94\n",
            "FizzBuzz\n",
            "FizzBuzz\n",
            "97\n",
            "98\n",
            "FizzBuzz\n",
            "FizzBuzz\n"
          ],
          "name": "stdout"
        }
      ]
    },
    {
      "cell_type": "code",
      "metadata": {
        "colab": {
          "base_uri": "https://localhost:8080/"
        },
        "id": "peDhfPNkMjrE",
        "outputId": "2482a7b3-9fdd-4de0-ad76-8d815f1a2027"
      },
      "source": [
        "#print out the first letter of every word in the string as a list comprehension\n",
        "\n",
        "st = ('Create a list of the first letters of every word in this string')\n",
        "\n",
        "words_split = st.split(' ')\n",
        "\n",
        "print(words_split)\n",
        "\n",
        "for fl in words_split:\n",
        "  print(fl[0])\n",
        "\n",
        "#now as a list comprehension\n",
        "\n",
        "pl = [x[0] for x in words_split]\n",
        "\n",
        "print(pl)\n",
        "  "
      ],
      "execution_count": 89,
      "outputs": [
        {
          "output_type": "stream",
          "text": [
            "['Create', 'a', 'list', 'of', 'the', 'first', 'letters', 'of', 'every', 'word', 'in', 'this', 'string']\n",
            "C\n",
            "a\n",
            "l\n",
            "o\n",
            "t\n",
            "f\n",
            "l\n",
            "o\n",
            "e\n",
            "w\n",
            "i\n",
            "t\n",
            "s\n",
            "['C', 'a', 'l', 'o', 't', 'f', 'l', 'o', 'e', 'w', 'i', 't', 's']\n"
          ],
          "name": "stdout"
        }
      ]
    },
    {
      "cell_type": "code",
      "metadata": {
        "colab": {
          "base_uri": "https://localhost:8080/"
        },
        "id": "ZFbKudP1OS0k",
        "outputId": "8b01ee26-da9b-4148-d053-d9f5cb1ebc8c"
      },
      "source": [
        "#working with function\n",
        "\n",
        "def say_hello():\n",
        "  print('Hello')\n",
        "  print('this is cool')\n",
        "\n",
        "say_hello()"
      ],
      "execution_count": 5,
      "outputs": [
        {
          "output_type": "stream",
          "text": [
            "Hello\n",
            "this is cool\n"
          ],
          "name": "stdout"
        }
      ]
    },
    {
      "cell_type": "code",
      "metadata": {
        "colab": {
          "base_uri": "https://localhost:8080/"
        },
        "id": "QoT_ZSSopaJi",
        "outputId": "d675a44f-b9a8-4669-87de-78919cfc54c9"
      },
      "source": [
        "def say_hello(name = 'Default'):\n",
        "  print(f'Hello {name}')\n",
        "\n",
        "say_hello()"
      ],
      "execution_count": 11,
      "outputs": [
        {
          "output_type": "stream",
          "text": [
            "Hello Default\n"
          ],
          "name": "stdout"
        }
      ]
    },
    {
      "cell_type": "code",
      "metadata": {
        "colab": {
          "base_uri": "https://localhost:8080/"
        },
        "id": "pmTQrZJxp29F",
        "outputId": "0b1b368c-1103-4a81-d2a2-23fe85580e5a"
      },
      "source": [
        "#creating a function for even numbers\n",
        "\n",
        "# This is returning true or false if the passed arugement inside list has an intiger\n",
        "def even_num(numbers):\n",
        "  for num in numbers:\n",
        "    if num % 2 == 0:\n",
        "      return True\n",
        "    else:\n",
        "      pass\n",
        "  return False\n",
        "\n",
        "even_num([4, 6, 8])"
      ],
      "execution_count": 28,
      "outputs": [
        {
          "output_type": "execute_result",
          "data": {
            "text/plain": [
              "True"
            ]
          },
          "metadata": {
            "tags": []
          },
          "execution_count": 28
        }
      ]
    },
    {
      "cell_type": "code",
      "metadata": {
        "colab": {
          "base_uri": "https://localhost:8080/"
        },
        "id": "rCfdnZr59cwu",
        "outputId": "4aac3e7d-e4e7-44f0-d174-f47207dd6701"
      },
      "source": [
        "## now return all the even numbers rather than giving true or false\n",
        "def even_num(numbers):\n",
        "  #this is a placeholder for a even numbers\n",
        "  even_numbers = []\n",
        "  for num in numbers:\n",
        "    if num % 2 == 0:\n",
        "      even_numbers.append(num)\n",
        "    else:\n",
        "      pass\n",
        "  return even_numbers\n",
        "\n",
        "even_num([1,2,3,4,5,6,7,8,9])"
      ],
      "execution_count": 40,
      "outputs": [
        {
          "output_type": "execute_result",
          "data": {
            "text/plain": [
              "[2, 4, 6, 8]"
            ]
          },
          "metadata": {
            "tags": []
          },
          "execution_count": 40
        }
      ]
    },
    {
      "cell_type": "code",
      "metadata": {
        "colab": {
          "base_uri": "https://localhost:8080/"
        },
        "id": "5UxlxHCS97tM",
        "outputId": "b33c958d-d175-456a-af4c-cb060fb76387"
      },
      "source": [
        "#create a fucntion that checks in tupils and returns the employee with most hours\n",
        "\n",
        "work_hours = [('Tim', 35), ('Somoni', 40), ('Weiwei', 50)]\n",
        "\n",
        "def employee_check(work_hours):\n",
        "\n",
        "  current_max = 0\n",
        "  employee_name = ''\n",
        "\n",
        "  for employee, hours in work_hours:\n",
        "    if hours > current_max:\n",
        "      current_max = hours\n",
        "      employee_name = employee\n",
        "    else:\n",
        "      pass\n",
        "  return (employee_name, current_max)\n",
        "\n",
        "\n",
        "employee_check(work_hours)"
      ],
      "execution_count": 5,
      "outputs": [
        {
          "output_type": "execute_result",
          "data": {
            "text/plain": [
              "('Weiwei', 50)"
            ]
          },
          "metadata": {
            "tags": []
          },
          "execution_count": 5
        }
      ]
    },
    {
      "cell_type": "code",
      "metadata": {
        "colab": {
          "base_uri": "https://localhost:8080/"
        },
        "id": "400iCdlHaaP1",
        "outputId": "195160c4-87ff-4b4a-fecf-cffd333cdb91"
      },
      "source": [
        "#creating a shufflig game\n",
        "\n",
        "from random import shuffle\n",
        "\n",
        "mylist = [' ', '0', ' ']\n",
        "\n",
        "shuffle(mylist)\n",
        "\n",
        "\n",
        "mylist"
      ],
      "execution_count": 96,
      "outputs": [
        {
          "output_type": "execute_result",
          "data": {
            "text/plain": [
              "[' ', '0', ' ']"
            ]
          },
          "metadata": {
            "tags": []
          },
          "execution_count": 96
        }
      ]
    },
    {
      "cell_type": "code",
      "metadata": {
        "colab": {
          "base_uri": "https://localhost:8080/"
        },
        "id": "CWhta1K_FrqF",
        "outputId": "b6f4e032-d7f1-4217-8838-0efe2669b25a"
      },
      "source": [
        "def shuffled_list(mylist):\n",
        "  shuffle(mylist)\n",
        "  return mylist\n",
        "\n",
        "shuffled_list(mylist)"
      ],
      "execution_count": 100,
      "outputs": [
        {
          "output_type": "execute_result",
          "data": {
            "text/plain": [
              "['0', ' ', ' ']"
            ]
          },
          "metadata": {
            "tags": []
          },
          "execution_count": 100
        }
      ]
    },
    {
      "cell_type": "code",
      "metadata": {
        "colab": {
          "base_uri": "https://localhost:8080/"
        },
        "id": "YrXE-u8tF6YD",
        "outputId": "f1e27dff-3a7d-40e3-8181-b562042a19f6"
      },
      "source": [
        "mylist = [' ', '0', ' ']\n",
        "\n",
        "shuffled_list(mylist)"
      ],
      "execution_count": 118,
      "outputs": [
        {
          "output_type": "execute_result",
          "data": {
            "text/plain": [
              "['0', ' ', ' ']"
            ]
          },
          "metadata": {
            "tags": []
          },
          "execution_count": 118
        }
      ]
    },
    {
      "cell_type": "code",
      "metadata": {
        "colab": {
          "base_uri": "https://localhost:8080/"
        },
        "id": "76O7q-01cJi-",
        "outputId": "5b74809b-4a77-4501-9964-a306edd0c38b"
      },
      "source": [
        "def player_guess():\n",
        "\n",
        "  guess = ''\n",
        "\n",
        "  while guess not in ['0','1','2']:\n",
        "    guess = input('Please pick a number from 0, 1, 2 \\n')\n",
        "\n",
        "  return int(guess)\n",
        "\n",
        "player_guess()"
      ],
      "execution_count": 119,
      "outputs": [
        {
          "output_type": "stream",
          "text": [
            "Please pick a number from 0, 1, 2 \n",
            "1\n"
          ],
          "name": "stdout"
        },
        {
          "output_type": "execute_result",
          "data": {
            "text/plain": [
              "1"
            ]
          },
          "metadata": {
            "tags": []
          },
          "execution_count": 119
        }
      ]
    },
    {
      "cell_type": "code",
      "metadata": {
        "id": "Q92w9wQ5fGJK"
      },
      "source": [
        "def check_guess(mylist,guess):\n",
        "  if mylist[guess] == '0':\n",
        "    print('Correct')\n",
        "  else:\n",
        "    print('Wrong, pick a new number... ')\n",
        "\n",
        "  return mylist"
      ],
      "execution_count": 112,
      "outputs": []
    },
    {
      "cell_type": "code",
      "metadata": {
        "colab": {
          "base_uri": "https://localhost:8080/"
        },
        "id": "b1nONEHQi8tR",
        "outputId": "57cad5a6-6088-44b0-e8cc-e7b6184f0c25"
      },
      "source": [
        "#Initial list\n",
        "\n",
        "mylist = [' ', '0', ' ']\n",
        "\n",
        "#shuffle list\n",
        "\n",
        "mixedup_list = shuffled_list(mylist)\n",
        "\n",
        "#player guess\n",
        "\n",
        "guess = player_guess()\n",
        "\n",
        "\n",
        "#check the guess\n",
        "\n",
        "check_guess(mixedup_list,guess)\n"
      ],
      "execution_count": 129,
      "outputs": [
        {
          "output_type": "stream",
          "text": [
            "Please pick a number from 0, 1, 2 \n",
            "0\n",
            "Correct\n"
          ],
          "name": "stdout"
        },
        {
          "output_type": "execute_result",
          "data": {
            "text/plain": [
              "['0', ' ', ' ']"
            ]
          },
          "metadata": {
            "tags": []
          },
          "execution_count": 129
        }
      ]
    },
    {
      "cell_type": "code",
      "metadata": {
        "colab": {
          "base_uri": "https://localhost:8080/"
        },
        "id": "_D9q-ohEjAIL",
        "outputId": "600fc11f-b981-4ce4-f10f-a40f75131a38"
      },
      "source": [
        "#*args and *kwargs\n",
        "\n",
        "#with *args you can pass as many key words as you want as opposed to specifically specifying the keys\n",
        "\n",
        "def my_func(*args):\n",
        "  return sum(args) * 0.05\n",
        "  \n",
        "\n",
        "my_func(20,40,60,80,10,120,140)"
      ],
      "execution_count": 7,
      "outputs": [
        {
          "output_type": "execute_result",
          "data": {
            "text/plain": [
              "23.5"
            ]
          },
          "metadata": {
            "tags": []
          },
          "execution_count": 7
        }
      ]
    },
    {
      "cell_type": "code",
      "metadata": {
        "colab": {
          "base_uri": "https://localhost:8080/"
        },
        "id": "njW7B_hIS4Eo",
        "outputId": "47db632b-a556-4abe-f54a-1d01928b8284"
      },
      "source": [
        "#*args are treated as tuples\n",
        "\n",
        "def my_func(*args):\n",
        "  return args\n",
        "\n",
        "my_func(10,20,30)"
      ],
      "execution_count": 8,
      "outputs": [
        {
          "output_type": "execute_result",
          "data": {
            "text/plain": [
              "(10, 20, 30)"
            ]
          },
          "metadata": {
            "tags": []
          },
          "execution_count": 8
        }
      ]
    },
    {
      "cell_type": "code",
      "metadata": {
        "id": "4yoUfYCQTfDG"
      },
      "source": [
        "#**kwargs are also arbitrary arugment where as opposed -- *args = tupils --, it accepts dictionary. \n",
        "\n",
        "\n",
        "def my_func(**kwargs):\n",
        "  if 'fruit' and 'veggie' in kwargs:\n",
        "    print('There is a yummy fruit {} and veggie {} that I love and '.format(kwargs['fruit'], kwargs['veggie']))\n",
        "  else:\n",
        "    print('No yummy fruit that I love')\n",
        "\n"
      ],
      "execution_count": 29,
      "outputs": []
    },
    {
      "cell_type": "code",
      "metadata": {
        "colab": {
          "base_uri": "https://localhost:8080/"
        },
        "id": "JKzT55FoV6Dz",
        "outputId": "8e40c354-31de-4512-d0b2-322db15d3770"
      },
      "source": [
        "my_func(fruit='banana', veggie='brokoli')"
      ],
      "execution_count": 30,
      "outputs": [
        {
          "output_type": "stream",
          "text": [
            "There is a yummy fruit banana and veggie brokoli that I love and \n"
          ],
          "name": "stdout"
        }
      ]
    },
    {
      "cell_type": "code",
      "metadata": {
        "id": "N9bVMVc9WSaS"
      },
      "source": [
        "#a fucntion can also receive both *args and **kwargs\n",
        "\n",
        "def my_func(*args, **kwargs):\n",
        "  print(args,kwargs)"
      ],
      "execution_count": 31,
      "outputs": []
    },
    {
      "cell_type": "code",
      "metadata": {
        "colab": {
          "base_uri": "https://localhost:8080/"
        },
        "id": "Zyj03ZJ6aKDa",
        "outputId": "a7d73ad2-0dfb-4f19-ee01-17e5edce987d"
      },
      "source": [
        "my_func(1,2,3,4,5,6, fruits='banana', veggie = 'brokoli')"
      ],
      "execution_count": 34,
      "outputs": [
        {
          "output_type": "stream",
          "text": [
            "(1, 2, 3, 4, 5, 6) {'fruits': 'banana', 'veggie': 'brokoli'}\n"
          ],
          "name": "stdout"
        }
      ]
    },
    {
      "cell_type": "code",
      "metadata": {
        "id": "5D0h-oOUdAP2"
      },
      "source": [
        "def myfunc(*args):\n",
        "  even_num = []\n",
        "  for num in args:\n",
        "    if num % 2 == 0:\n",
        "      even_num.append(num)\n",
        "  return(even_num)"
      ],
      "execution_count": 62,
      "outputs": []
    },
    {
      "cell_type": "code",
      "metadata": {
        "colab": {
          "base_uri": "https://localhost:8080/"
        },
        "id": "cSuVsdlZd_vk",
        "outputId": "615362b5-78ef-489a-988c-1695fa5b34f6"
      },
      "source": [
        "myfunc(1,2,3,4,5,6)"
      ],
      "execution_count": 63,
      "outputs": [
        {
          "output_type": "execute_result",
          "data": {
            "text/plain": [
              "[2, 4, 6]"
            ]
          },
          "metadata": {
            "tags": []
          },
          "execution_count": 63
        }
      ]
    },
    {
      "cell_type": "code",
      "metadata": {
        "id": "3L51u1OJeB10"
      },
      "source": [
        "def myfunc(string):\n",
        "  mylist = ''\n",
        "\n",
        "  i = True #capitalize it\n",
        "\n",
        "  for num in string:\n",
        "    if i:\n",
        "      mylist +=num.upper()\n",
        "    else:\n",
        "      mylist +=num.lower()\n",
        "\n",
        "    i = not i\n",
        "\n",
        "  return mylist\n",
        " \n",
        "  "
      ],
      "execution_count": 38,
      "outputs": []
    },
    {
      "cell_type": "code",
      "metadata": {
        "colab": {
          "base_uri": "https://localhost:8080/",
          "height": 35
        },
        "id": "H3gvXe59lB-_",
        "outputId": "a484cc65-2e43-48ba-e4d4-d946fb6f2951"
      },
      "source": [
        "myfunc('zoirajon')"
      ],
      "execution_count": 40,
      "outputs": [
        {
          "output_type": "execute_result",
          "data": {
            "application/vnd.google.colaboratory.intrinsic+json": {
              "type": "string"
            },
            "text/plain": [
              "'ZoIrAjOn'"
            ]
          },
          "metadata": {
            "tags": []
          },
          "execution_count": 40
        }
      ]
    },
    {
      "cell_type": "code",
      "metadata": {
        "id": "iKRez-RD9qBy"
      },
      "source": [
        "#given any string inside a fuction, make first and every other letter capital\n",
        "\n",
        "def myfunc(string):\n",
        "  letters = ''\n",
        "  for i in range(len(string)):\n",
        "   if i % 2 == 0:\n",
        "     letters += string[i].upper()\n",
        "   else:\n",
        "     letters += string[i].lower()\n",
        "  return letters\n"
      ],
      "execution_count": 40,
      "outputs": []
    },
    {
      "cell_type": "code",
      "metadata": {
        "colab": {
          "base_uri": "https://localhost:8080/",
          "height": 35
        },
        "id": "IgzTZq0e_R92",
        "outputId": "d6da04ab-2624-4221-c498-5e92fd1efcce"
      },
      "source": [
        "myfunc('zoira')"
      ],
      "execution_count": 41,
      "outputs": [
        {
          "output_type": "execute_result",
          "data": {
            "application/vnd.google.colaboratory.intrinsic+json": {
              "type": "string"
            },
            "text/plain": [
              "'ZoIrA'"
            ]
          },
          "metadata": {
            "tags": []
          },
          "execution_count": 41
        }
      ]
    },
    {
      "cell_type": "code",
      "metadata": {
        "id": "9OaBhucdQh3N"
      },
      "source": [
        "park1 = ['bmw', 'audi', 'tesla', 'honda']\n",
        "\n",
        "park2 = ['mercedes', 'suzuki', 'bmw', 'ford']\n",
        "\n",
        "park3 = ['ford', 'chevrolet', 'audi', 'cybertruck']\n",
        "\n",
        "lot = [park1, park2, park3]\n",
        "\n",
        "#bmw_cars = []\n",
        "\n",
        "#park2.index('bmw')\n",
        "\n"
      ],
      "execution_count": 93,
      "outputs": []
    },
    {
      "cell_type": "code",
      "metadata": {
        "id": "ee_wjPDGQ-vh"
      },
      "source": [
        "#returns lesser or even numbers and larger of odds\n",
        "def myfunc(a,b):\n",
        "  if a % 2 == 0 and a > b:\n",
        "    return b\n",
        "  elif b % 2 == 0 and b > a:\n",
        "    return a\n",
        "  elif a % 2 != 0 and b % 2 != 0 and a > b:\n",
        "    return a\n",
        "  else:\n",
        "    return b\n",
        "    \n",
        "#verion 2 - better\n",
        "\n",
        "def myfunc(a,b):\n",
        "  if a % 2 == 0 and b % 2 == 0:\n",
        "    return min(a, b)\n",
        "  else:\n",
        "    return max(a, b)"
      ],
      "execution_count": 11,
      "outputs": []
    },
    {
      "cell_type": "code",
      "metadata": {
        "colab": {
          "base_uri": "https://localhost:8080/"
        },
        "id": "1ZRoF4n4qJQR",
        "outputId": "67107916-c0ee-4e18-8079-25631052a160"
      },
      "source": [
        "myfunc(3,10)"
      ],
      "execution_count": 36,
      "outputs": [
        {
          "output_type": "execute_result",
          "data": {
            "text/plain": [
              "3"
            ]
          },
          "metadata": {
            "tags": []
          },
          "execution_count": 36
        }
      ]
    },
    {
      "cell_type": "code",
      "metadata": {
        "id": "QEuNPknQCMz9"
      },
      "source": [
        "#return True if given words start with the same letter\n",
        "\n",
        "def myfunc(a,b):\n",
        "  if a[0] == b[0]:\n",
        "    return True\n",
        "  else:\n",
        "    return False\n",
        "  #print(letter_a, letter_b)\n",
        "\n",
        "\n"
      ],
      "execution_count": 9,
      "outputs": []
    },
    {
      "cell_type": "code",
      "metadata": {
        "colab": {
          "base_uri": "https://localhost:8080/"
        },
        "id": "hJNu0rxH8ncJ",
        "outputId": "742a4567-b729-4c86-da95-7b317079905f"
      },
      "source": [
        "myfunc('weiwei', 'somonijon')"
      ],
      "execution_count": 10,
      "outputs": [
        {
          "output_type": "execute_result",
          "data": {
            "text/plain": [
              "False"
            ]
          },
          "metadata": {
            "tags": []
          },
          "execution_count": 10
        }
      ]
    },
    {
      "cell_type": "code",
      "metadata": {
        "colab": {
          "base_uri": "https://localhost:8080/"
        },
        "id": "QQyH9PapA32A",
        "outputId": "c6a49290-e6f2-4977-d9be-a61e230d7c0b"
      },
      "source": [
        "myfunc(4,10)"
      ],
      "execution_count": 46,
      "outputs": [
        {
          "output_type": "execute_result",
          "data": {
            "text/plain": [
              "4"
            ]
          },
          "metadata": {
            "tags": []
          },
          "execution_count": 46
        }
      ]
    },
    {
      "cell_type": "code",
      "metadata": {
        "id": "K_mhf4sgA8io"
      },
      "source": [
        "#MAKES TWENTY: Given two integers, return True if the sum of the integers is 20 \n",
        "#or if one of the integers is 20. If not, return False\n",
        "\n",
        "def myfunc(n1,n2):\n",
        "  if (n1+n2) == 20 or n1 == 20 or n2 == 20:\n",
        "    return True\n",
        "  else:\n",
        "    return False\n",
        "\n",
        "#second version -- coreccted\n",
        "\n",
        "def animal_crackers(text):\n",
        "    wordlist = text.split()\n",
        "    return wordlist[0][0] == wordlist[1][0]"
      ],
      "execution_count": 34,
      "outputs": []
    },
    {
      "cell_type": "code",
      "metadata": {
        "id": "shvSrNjeFgQ0"
      },
      "source": [
        "myfunc(10,10)"
      ],
      "execution_count": null,
      "outputs": []
    },
    {
      "cell_type": "code",
      "metadata": {
        "id": "uD7hIgPRFkCc"
      },
      "source": [
        "# def macdonald(word):\n",
        "#   letters = list(word)\n",
        "\n",
        "#   for i in range(len(word)):\n",
        "#     if i == 0:\n",
        "#       letters[i] = letters[i].upper()\n",
        "#     elif i == 3:\n",
        "#       letters[i] = letters[i].upper()\n",
        "#   return ''.join(letters)\n",
        "\n",
        "\n",
        "#version 2. I guess this one is easier version\n",
        "\n",
        "def old_macdonald(name):\n",
        "    if len(name) > 3:\n",
        "        return name[:3].capitalize() + name[3:].capitalize()\n",
        "    else:\n",
        "        return 'Name is too short!'"
      ],
      "execution_count": 30,
      "outputs": []
    },
    {
      "cell_type": "code",
      "metadata": {
        "colab": {
          "base_uri": "https://localhost:8080/",
          "height": 35
        },
        "id": "n7rc41HEuWKK",
        "outputId": "42bc7ca0-2a18-42ea-adfa-444fe7be7cd1"
      },
      "source": [
        "old_macdonald('macdonald')"
      ],
      "execution_count": 31,
      "outputs": [
        {
          "output_type": "execute_result",
          "data": {
            "application/vnd.google.colaboratory.intrinsic+json": {
              "type": "string"
            },
            "text/plain": [
              "'MacDonald'"
            ]
          },
          "metadata": {
            "tags": []
          },
          "execution_count": 31
        }
      ]
    },
    {
      "cell_type": "code",
      "metadata": {
        "id": "r0mHo-aadQqs"
      },
      "source": [
        "#MASTER YODA: Given a sentence, return a sentence with the words reversed\n",
        "\n",
        "# def myfunc(sentence):\n",
        "#   split_words = sentence.split(' ') [::-1]\n",
        "#   joined = ' '.join(split_words)\n",
        "#   return joined\n",
        "\n",
        "#version 2 -- both are good\n",
        "\n",
        "def master_yoda(text):\n",
        "    return ' '.join(text.split()[::-1])\n"
      ],
      "execution_count": 37,
      "outputs": []
    },
    {
      "cell_type": "code",
      "metadata": {
        "colab": {
          "base_uri": "https://localhost:8080/",
          "height": 35
        },
        "id": "Qnh3yL_fhR0Q",
        "outputId": "7997f6be-6c1e-4622-8705-a60f12080bde"
      },
      "source": [
        "master_yoda('I am home')"
      ],
      "execution_count": 39,
      "outputs": [
        {
          "output_type": "execute_result",
          "data": {
            "application/vnd.google.colaboratory.intrinsic+json": {
              "type": "string"
            },
            "text/plain": [
              "'home am I'"
            ]
          },
          "metadata": {
            "tags": []
          },
          "execution_count": 39
        }
      ]
    },
    {
      "cell_type": "code",
      "metadata": {
        "id": "drPgmlKqtExm"
      },
      "source": [
        "#ALMOST THERE: Given an integer n, return True if n is within 10 of either 100 or 200\n",
        "\n",
        "# def almost_there(n):\n",
        "#   if n in range(90, 110) or n in range(190,210):\n",
        "#     return True\n",
        "#   else:\n",
        "#     return False\n",
        "\n",
        "#version 2 -- interesting solution\n",
        "\n",
        "def almost_there(n):\n",
        "    return ((abs(100 - n) <= 10) or (abs(200 - n) <= 10))\n"
      ],
      "execution_count": 66,
      "outputs": []
    },
    {
      "cell_type": "code",
      "metadata": {
        "colab": {
          "base_uri": "https://localhost:8080/"
        },
        "id": "g9ZSsgGs3rnK",
        "outputId": "2f02cb83-4c9f-452c-8150-a04865a5249c"
      },
      "source": [
        "almost_there(210)"
      ],
      "execution_count": 68,
      "outputs": [
        {
          "output_type": "execute_result",
          "data": {
            "text/plain": [
              "True"
            ]
          },
          "metadata": {
            "tags": []
          },
          "execution_count": 68
        }
      ]
    },
    {
      "cell_type": "code",
      "metadata": {
        "id": "ZM2GDNHf3vF7"
      },
      "source": [
        "#Given a list of ints, return True if the array contains a 3 next to a 3 somewhere.\n",
        "\n",
        "# I was not able to solve this!\n",
        "\n",
        "def has_33(nums):\n",
        "    for i in range(0, len(nums)-1):\n",
        "      \n",
        "        # nicer looking alternative in commented code\n",
        "        if nums[i] == 3 and nums[i+1] == 3:\n",
        "    \n",
        "        # if nums[i:i+2] == [3,3]:\n",
        "            return True\n",
        "        print(nums)  \n",
        "    \n",
        "    return False\n"
      ],
      "execution_count": 152,
      "outputs": []
    },
    {
      "cell_type": "code",
      "metadata": {
        "colab": {
          "base_uri": "https://localhost:8080/"
        },
        "id": "d8lkleV5A2n3",
        "outputId": "44ea3cfe-aaa9-4b00-e7af-86ebc397899e"
      },
      "source": [
        "has_33([4,5,6,7,3,3])"
      ],
      "execution_count": 154,
      "outputs": [
        {
          "output_type": "stream",
          "text": [
            "[4, 5, 6, 7, 3, 3]\n",
            "[4, 5, 6, 7, 3, 3]\n",
            "[4, 5, 6, 7, 3, 3]\n",
            "[4, 5, 6, 7, 3, 3]\n"
          ],
          "name": "stdout"
        },
        {
          "output_type": "execute_result",
          "data": {
            "text/plain": [
              "True"
            ]
          },
          "metadata": {
            "tags": []
          },
          "execution_count": 154
        }
      ]
    },
    {
      "cell_type": "code",
      "metadata": {
        "id": "1xMZB9gRGccR"
      },
      "source": [
        "#PAPER DOLL: Given a string, return a string where for every character in the original there are three characters\n",
        "#my version that works\n",
        "def paper_doll(text):\n",
        "  ls = list(text)\n",
        "  holder = []\n",
        "  for i in ls:\n",
        "    holder.append(i*3)\n",
        "  return ''.join(holder)\n",
        "\n",
        "#version 2 \n",
        "\n",
        "# def paper_doll(text):\n",
        "#     result = ''\n",
        "#     for char in text:\n",
        "#         result += char * 3\n",
        "#     return result"
      ],
      "execution_count": 146,
      "outputs": []
    },
    {
      "cell_type": "code",
      "metadata": {
        "colab": {
          "base_uri": "https://localhost:8080/",
          "height": 35
        },
        "id": "CYPEAVlhH3rV",
        "outputId": "abf7fff7-eda2-4eae-b189-a67f20fc0c2e"
      },
      "source": [
        "paper_doll('my wife is the best')"
      ],
      "execution_count": 145,
      "outputs": [
        {
          "output_type": "execute_result",
          "data": {
            "application/vnd.google.colaboratory.intrinsic+json": {
              "type": "string"
            },
            "text/plain": [
              "'mmmyyy   wwwiiifffeee   iiisss   ttthhheee   bbbeeesssttt'"
            ]
          },
          "metadata": {
            "tags": []
          },
          "execution_count": 145
        }
      ]
    },
    {
      "cell_type": "code",
      "metadata": {
        "id": "Scm7unxLIIUK"
      },
      "source": [
        "#BLACKJACK: Given three integers between 1 and 11, if their sum is less than or equal to 21, return their sum. \n",
        "#If their sum exceeds 21 and there's an eleven, reduce the total sum by 10. \n",
        "#Finally, if the sum (even after adjustment) exceeds 21, return 'BUST'\n",
        "\n",
        "#my version\n",
        "def blackjack(a,b,c):\n",
        "  sum_num = (a+b+c)\n",
        "  if a+b+c <= 21:\n",
        "    return sum_num\n",
        "  elif sum_num > 21 and a == 11 or b == 11 or c ==11:\n",
        "    return sum_num -10\n",
        "  else:\n",
        "    return 'Bust'\n",
        "\n",
        "#textbook solution\n",
        "\n",
        "\n",
        "# def blackjack(a,b,c):\n",
        "    \n",
        "#     if sum((a,b,c)) <= 21:\n",
        "#         return sum((a,b,c))\n",
        "#     elif sum((a,b,c)) <=31 and 11 in (a,b,c):\n",
        "#         return sum((a,b,c)) - 10\n",
        "#     else:\n",
        "#         return 'BUST'"
      ],
      "execution_count": 3,
      "outputs": []
    },
    {
      "cell_type": "code",
      "metadata": {
        "colab": {
          "base_uri": "https://localhost:8080/"
        },
        "id": "6jy4b6ll-1B9",
        "outputId": "8a6a752b-f850-46ed-dfdb-dce9fd7b3572"
      },
      "source": [
        "blackjack(9,9,11)\n"
      ],
      "execution_count": 8,
      "outputs": [
        {
          "output_type": "execute_result",
          "data": {
            "text/plain": [
              "19"
            ]
          },
          "metadata": {
            "tags": []
          },
          "execution_count": 8
        }
      ]
    },
    {
      "cell_type": "code",
      "metadata": {
        "id": "bmnpDSDeL7II"
      },
      "source": [
        "#SUMMER OF '69: Return the sum of the numbers in the array, \n",
        "#except ignore sections of numbers starting with a 6 and extending to the next 9 \n",
        "#(every 6 will be followed by at least one 9). Return 0 for no numbers.¶\n",
        "\n",
        "def summer_69(arr):\n",
        "    total = 0\n",
        "    add = True\n",
        "    for num in arr:\n",
        "        while add:\n",
        "            if num != 6:\n",
        "                total += num\n",
        "                break\n",
        "            else:\n",
        "                add = False\n",
        "        while not add:\n",
        "            if num != 9:\n",
        "                break\n",
        "            else:\n",
        "                add = True\n",
        "                break\n",
        "    return total\n",
        "\n"
      ],
      "execution_count": 1,
      "outputs": []
    },
    {
      "cell_type": "code",
      "metadata": {
        "colab": {
          "base_uri": "https://localhost:8080/"
        },
        "id": "XP5rlDh3yG6p",
        "outputId": "eb8233f9-b5a9-40da-9e20-8b0a1e388ad9"
      },
      "source": [
        "summer_69([1,2,6,3,4,7,8,9,4,4])"
      ],
      "execution_count": 2,
      "outputs": [
        {
          "output_type": "execute_result",
          "data": {
            "text/plain": [
              "11"
            ]
          },
          "metadata": {
            "tags": []
          },
          "execution_count": 2
        }
      ]
    },
    {
      "cell_type": "code",
      "metadata": {
        "id": "yB7M1_cZyLge"
      },
      "source": [
        "#this will only elminate the given numers\n",
        "def summer_69(arr):\n",
        "  total = 0\n",
        "  for num in arr:\n",
        "    if num != 6 and num != 9:\n",
        "      total += num\n",
        "  return total"
      ],
      "execution_count": 14,
      "outputs": []
    },
    {
      "cell_type": "code",
      "metadata": {
        "colab": {
          "base_uri": "https://localhost:8080/"
        },
        "id": "bY3JL9Ge1WEU",
        "outputId": "697197c4-ddf6-494f-cffb-b818725fb9eb"
      },
      "source": [
        "summer_69([1,2,6,3,4,7,9])"
      ],
      "execution_count": 15,
      "outputs": [
        {
          "output_type": "execute_result",
          "data": {
            "text/plain": [
              "17"
            ]
          },
          "metadata": {
            "tags": []
          },
          "execution_count": 15
        }
      ]
    },
    {
      "cell_type": "code",
      "metadata": {
        "colab": {
          "base_uri": "https://localhost:8080/"
        },
        "id": "xJDCldPdIvLH",
        "outputId": "8c2db7d7-5c9b-4ede-d590-59fd2bfbf3be"
      },
      "source": [
        "#Lambda expressions. Map and Filter Functions\n",
        "\n",
        "#Map fucntion will help you iterate through the list much faster\n",
        "def names(text):\n",
        "  if len(text)%2 == 0:\n",
        "      return 'Even'\n",
        "  else:\n",
        "    return text[0]\n",
        "\n",
        "name = ['Bob', 'Weiwei', 'Zarina', 'Somoni']\n",
        "\n",
        "list(map(names, name))\n",
        "\n"
      ],
      "execution_count": 53,
      "outputs": [
        {
          "output_type": "execute_result",
          "data": {
            "text/plain": [
              "['B', 'Even', 'Even', 'Even']"
            ]
          },
          "metadata": {
            "tags": []
          },
          "execution_count": 53
        }
      ]
    },
    {
      "cell_type": "code",
      "metadata": {
        "colab": {
          "base_uri": "https://localhost:8080/"
        },
        "id": "KycqEyLEKHWj",
        "outputId": "27b71fe3-4334-4f02-c70d-796ec3a44a49"
      },
      "source": [
        "#Filter works similarly, but it looks for True or False statement in your functions\n",
        "\n",
        "def return_even(nums):\n",
        "  return nums%2 == 0\n",
        "\n",
        "mylist = [1,2,3,4,5,6,7,8,9,10]\n",
        "#it returned all even numbers becuase the function was created was true\n",
        "# list(filter(return_even,mylist))\n",
        "\n",
        "for n in filter(return_even,mylist):\n",
        "  print(n)"
      ],
      "execution_count": 58,
      "outputs": [
        {
          "output_type": "stream",
          "text": [
            "2\n",
            "4\n",
            "6\n",
            "8\n",
            "10\n"
          ],
          "name": "stdout"
        }
      ]
    },
    {
      "cell_type": "code",
      "metadata": {
        "colab": {
          "base_uri": "https://localhost:8080/"
        },
        "id": "tZuHUZxMKcgc",
        "outputId": "2e049a98-f7c9-4692-c365-ed53c0cbbe55"
      },
      "source": [
        "#lambda is very helpful to create a fucntion into a lambda expression so it take easily used in your map and filter functions\n",
        "\n",
        "#let's use with map example above:\n",
        "\n",
        "# def names(text):\n",
        "#   return text**2\n",
        "\n",
        "#lambda text: text**2\n",
        "mylist = [1,2,3,4,5,6,7,8,9,10]\n",
        "list(map(lambda text: text**2, mylist))\n",
        "\n"
      ],
      "execution_count": 73,
      "outputs": [
        {
          "output_type": "execute_result",
          "data": {
            "text/plain": [
              "[1, 4, 9, 16, 25, 36, 49, 64, 81, 100]"
            ]
          },
          "metadata": {
            "tags": []
          },
          "execution_count": 73
        }
      ]
    },
    {
      "cell_type": "code",
      "metadata": {
        "id": "9Kb3NWjxxuCt"
      },
      "source": [
        "def ran_check(num,low,high):\n",
        "  return num in range(low,high)"
      ],
      "execution_count": 2,
      "outputs": []
    },
    {
      "cell_type": "code",
      "metadata": {
        "colab": {
          "base_uri": "https://localhost:8080/"
        },
        "id": "0aYmrobvRM86",
        "outputId": "81f10337-84bb-4309-9fe1-c9c67e04c5ac"
      },
      "source": [
        "ran_check(5,2,4)"
      ],
      "execution_count": 3,
      "outputs": [
        {
          "output_type": "execute_result",
          "data": {
            "text/plain": [
              "False"
            ]
          },
          "metadata": {
            "tags": []
          },
          "execution_count": 3
        }
      ]
    },
    {
      "cell_type": "code",
      "metadata": {
        "id": "uunfuFsAOFld"
      },
      "source": [
        "def up_low(s):\n",
        "  list(s)\n",
        "  upper_case = 0\n",
        "  lower_case = 0\n",
        "  for i in s:\n",
        "    if i.isupper():\n",
        "      upper_case += 1\n",
        "    elif i.islower():\n",
        "      lower_case += 1\n",
        "\n",
        "  print(f'No. of Upper case characters : {len(upper_case)} and No. of Lower case Characters : {len(lower_case)}')\n",
        "\n",
        "\n",
        "  "
      ],
      "execution_count": 26,
      "outputs": []
    },
    {
      "cell_type": "code",
      "metadata": {
        "colab": {
          "base_uri": "https://localhost:8080/"
        },
        "id": "axBJ9fdiPNz7",
        "outputId": "f2f9b408-501f-44ca-dbe7-ed280a89bedc"
      },
      "source": [
        "up_low('Hello Mr. Rogers, how are you this fine Tuesday?')"
      ],
      "execution_count": 27,
      "outputs": [
        {
          "output_type": "stream",
          "text": [
            "No. of Upper case characters : 4 and No. of Lower case Characters : 33\n"
          ],
          "name": "stdout"
        }
      ]
    },
    {
      "cell_type": "code",
      "metadata": {
        "id": "Mz1ONfkxP2PX"
      },
      "source": [
        "def unique_list(lst):\n",
        "  return set(lst)"
      ],
      "execution_count": 28,
      "outputs": []
    },
    {
      "cell_type": "code",
      "metadata": {
        "colab": {
          "base_uri": "https://localhost:8080/"
        },
        "id": "EXFJEb8vT024",
        "outputId": "df516bf6-b84b-4898-a143-717fb257a808"
      },
      "source": [
        "unique_list([1,1,1,1,2,2,3,3,3,3,4,5])"
      ],
      "execution_count": 30,
      "outputs": [
        {
          "output_type": "execute_result",
          "data": {
            "text/plain": [
              "{1, 2, 3, 4, 5}"
            ]
          },
          "metadata": {
            "tags": []
          },
          "execution_count": 30
        }
      ]
    },
    {
      "cell_type": "code",
      "metadata": {
        "id": "M3V9TDoVUj1q"
      },
      "source": [
        "def multiply(numbers):\n",
        "  add = 1\n",
        "  for num in numbers:\n",
        "    add *= num\n",
        "  return add\n",
        "    "
      ],
      "execution_count": 62,
      "outputs": []
    },
    {
      "cell_type": "code",
      "metadata": {
        "colab": {
          "base_uri": "https://localhost:8080/"
        },
        "id": "Cozjbxlsh-V4",
        "outputId": "c47a704f-a6c6-451a-ced7-2945e4bba888"
      },
      "source": [
        "multiply([1,2,3,-4])"
      ],
      "execution_count": 63,
      "outputs": [
        {
          "output_type": "execute_result",
          "data": {
            "text/plain": [
              "-24"
            ]
          },
          "metadata": {
            "tags": []
          },
          "execution_count": 63
        }
      ]
    },
    {
      "cell_type": "code",
      "metadata": {
        "id": "srZynXfqiARK"
      },
      "source": [
        "def palindrome(s):\n",
        "  x = s.replace(' ', '')\n",
        "  if x[::-1] == x:\n",
        "    return True\n",
        "  else:\n",
        "    return False\n"
      ],
      "execution_count": 94,
      "outputs": []
    },
    {
      "cell_type": "code",
      "metadata": {
        "colab": {
          "base_uri": "https://localhost:8080/"
        },
        "id": "ZhfLgHNimDy5",
        "outputId": "ec81a475-9c94-4d7d-8872-7ffb4dbfb23b"
      },
      "source": [
        "palindrome('racecar')"
      ],
      "execution_count": 99,
      "outputs": [
        {
          "output_type": "execute_result",
          "data": {
            "text/plain": [
              "True"
            ]
          },
          "metadata": {
            "tags": []
          },
          "execution_count": 99
        }
      ]
    },
    {
      "cell_type": "code",
      "metadata": {
        "id": "61N8ERB3nsFL"
      },
      "source": [
        " import string\n",
        "\n",
        "def ispangram(str1, alphabet=string.ascii_lowercase):\n",
        "  "
      ],
      "execution_count": null,
      "outputs": []
    },
    {
      "cell_type": "code",
      "metadata": {
        "colab": {
          "base_uri": "https://localhost:8080/"
        },
        "id": "NbqaFFcm6GvV",
        "outputId": "e81ce871-f68a-4a40-cb97-1731bfb7edf9"
      },
      "source": [
        "user_word = 'aloha there good friend'\n",
        "\n"
      ],
      "execution_count": 15,
      "outputs": [
        {
          "output_type": "stream",
          "text": [
            "alohatheregoodfriend\n",
            "20\n"
          ],
          "name": "stdout"
        }
      ]
    },
    {
      "cell_type": "code",
      "metadata": {
        "colab": {
          "base_uri": "https://localhost:8080/"
        },
        "id": "fuONZlWc6KN9",
        "outputId": "fb0a689a-2cfb-438e-b723-6ce46c35f121"
      },
      "source": [
        "#this is to find the frequencies of the letters from the phraze or work and add to dictionary\n",
        "user_input = input('write a phraze or word: ')\n",
        "\n",
        "count_letters = {}\n",
        "\n",
        "for i in user_input:\n",
        "  if i in count_letters:\n",
        "    count_letters[i] += 1\n",
        "  else:\n",
        "    count_letters[i] = 1\n",
        "\n",
        "max_value = max(count_letters, key=count_letters.get)\n",
        "\n",
        "print(count_letters)\n",
        "\n",
        "print()\n",
        "\n",
        "print(max_value)\n",
        "\n"
      ],
      "execution_count": 3,
      "outputs": [
        {
          "output_type": "stream",
          "text": [
            "write a phraze or word: thi is a test\n",
            "{'t': 3, 'h': 1, 'i': 2, ' ': 3, 's': 2, 'a': 1, 'e': 1}\n",
            "\n",
            "t\n"
          ],
          "name": "stdout"
        }
      ]
    },
    {
      "cell_type": "code",
      "metadata": {
        "colab": {
          "base_uri": "https://localhost:8080/"
        },
        "id": "zCQvOpplNn0w",
        "outputId": "07f72a47-f05b-4b84-bdf3-a6420b98bbc9"
      },
      "source": [
        "addition = {}\n",
        "\n",
        "letter_input = input(\"Give me different letters? \") \n",
        "\n",
        "\n",
        "for i in letter_input:\n",
        "  if i in addition:\n",
        "    addition[i] += 1\n",
        "  else:\n",
        "    addition[i] = 1\n",
        "print(addition)\n",
        "\n",
        "\n"
      ],
      "execution_count": 1,
      "outputs": [
        {
          "output_type": "stream",
          "text": [
            "Give me different letters? OOP\n",
            "{'O': 2, 'P': 1}\n"
          ],
          "name": "stdout"
        }
      ]
    },
    {
      "cell_type": "code",
      "metadata": {
        "id": "FJv9xVBOJopD"
      },
      "source": [
        "#OOP -- or Object Oriented Programmin. Very useful when a lot of code is being written...\n",
        "# as you are not going to have a cluster of too many functions but you classify them instead for neatness\n",
        "\n",
        "#Basic syntax:\n",
        "#class ClassName():\n",
        "#   def __init__(self,param1,param2): --> this is called method as opposed to function\n",
        "#         self.param1 = param1\n",
        "#         self.param2 = param2\n",
        "\n",
        "#   def MethodName(a,b):\n",
        "#       return this or that\n",
        "\n",
        "#Methods are like functions defined inside the Class\n",
        "\n",
        "#CLass object attribute -- is an attribute that is essentially global in that class so by declaring earlier you can use it more freely"
      ],
      "execution_count": 1,
      "outputs": []
    },
    {
      "cell_type": "code",
      "metadata": {
        "id": "nMlrecDgys1S"
      },
      "source": [
        "class LaFamilia():\n",
        "  def __init__(self, dadajon, ochajon):\n",
        "    self.dadajon = dadajon\n",
        "    self.ochajon = ochajon\n"
      ],
      "execution_count": 1,
      "outputs": []
    },
    {
      "cell_type": "code",
      "metadata": {
        "id": "AiPjhlxbzQkY"
      },
      "source": [
        "myLaFamilia = LaFamilia(dadajon='Qurbonali', ochajon='Gulnor')\n"
      ],
      "execution_count": 2,
      "outputs": []
    },
    {
      "cell_type": "code",
      "metadata": {
        "colab": {
          "base_uri": "https://localhost:8080/"
        },
        "id": "bOESy1TPzVRu",
        "outputId": "032b51d9-5995-420f-e4ac-25d5899219b0"
      },
      "source": [
        "type(myLaFamilia)"
      ],
      "execution_count": 3,
      "outputs": [
        {
          "output_type": "execute_result",
          "data": {
            "text/plain": [
              "__main__.LaFamilia"
            ]
          },
          "metadata": {
            "tags": []
          },
          "execution_count": 3
        }
      ]
    },
    {
      "cell_type": "code",
      "metadata": {
        "colab": {
          "base_uri": "https://localhost:8080/",
          "height": 35
        },
        "id": "PrRUEAPlzumZ",
        "outputId": "52eb87ff-f2c5-4682-f4fb-784e1aa29ebc"
      },
      "source": [
        "myLaFamilia.dadajon"
      ],
      "execution_count": 4,
      "outputs": [
        {
          "output_type": "execute_result",
          "data": {
            "application/vnd.google.colaboratory.intrinsic+json": {
              "type": "string"
            },
            "text/plain": [
              "'Qurbonali'"
            ]
          },
          "metadata": {
            "tags": []
          },
          "execution_count": 4
        }
      ]
    },
    {
      "cell_type": "code",
      "metadata": {
        "id": "8xPGLj7f0YyT"
      },
      "source": [
        "class Circle():\n",
        "\n",
        "  #Class object Attribute:\n",
        "  pi = 3.14\n",
        "\n",
        "  def __init__(self,radius=1):\n",
        "\n",
        "    self.radius = radius\n",
        "    #self.area = radius*radius*self.pi\n",
        "    #or also can put as\n",
        "    self.area = radius*radius*Circle.pi\n",
        "\n",
        "    #Create a new method for circumference\n",
        "  def get_cercumference(self):\n",
        "    return self.radius * self.pi * 2 \n",
        "\n",
        "\n"
      ],
      "execution_count": 82,
      "outputs": []
    },
    {
      "cell_type": "code",
      "metadata": {
        "id": "myGBZLK8v4UB"
      },
      "source": [
        "my_circle = Circle(40)"
      ],
      "execution_count": 83,
      "outputs": []
    },
    {
      "cell_type": "code",
      "metadata": {
        "colab": {
          "base_uri": "https://localhost:8080/"
        },
        "id": "loA7sGpNv6tl",
        "outputId": "a4fb0d1d-9a41-445a-b042-db8cfe245bbe"
      },
      "source": [
        "my_circle.radius"
      ],
      "execution_count": 84,
      "outputs": [
        {
          "output_type": "execute_result",
          "data": {
            "text/plain": [
              "40"
            ]
          },
          "metadata": {
            "tags": []
          },
          "execution_count": 84
        }
      ]
    },
    {
      "cell_type": "code",
      "metadata": {
        "id": "eTgO8Q8ywATe"
      },
      "source": [
        "#OOP Inheritance and Polymorphysm\n",
        "\n",
        "class Animal():\n",
        "  def __init__(self):\n",
        "    print('Animal created')\n",
        "\n",
        "  def who_am_i(self):\n",
        "    print('I am an Animal')\n",
        "\n",
        "  def eat(self):\n",
        "    print('I am eating')\n"
      ],
      "execution_count": 2,
      "outputs": []
    },
    {
      "cell_type": "code",
      "metadata": {
        "colab": {
          "base_uri": "https://localhost:8080/"
        },
        "id": "vqZuvEAB5Xtp",
        "outputId": "9801c57b-372c-43b2-f448-95be42b6d4fb"
      },
      "source": [
        "my_animal = Animal()"
      ],
      "execution_count": 3,
      "outputs": [
        {
          "output_type": "stream",
          "text": [
            "Animal created\n"
          ],
          "name": "stdout"
        }
      ]
    },
    {
      "cell_type": "code",
      "metadata": {
        "id": "RznLtM0Z5aIY"
      },
      "source": [
        "class Dog(Animal):\n",
        "  def __init__(self):\n",
        "    Animal.__init__(self)\n",
        "    print('Dog is created')\n",
        "  \n",
        "  def who_am_i(self):\n",
        "    print('I am a Dog')\n"
      ],
      "execution_count": 4,
      "outputs": []
    },
    {
      "cell_type": "code",
      "metadata": {
        "colab": {
          "base_uri": "https://localhost:8080/"
        },
        "id": "V5YwXy8q6T-J",
        "outputId": "da95d793-a79f-4ff3-bf2b-4515bf54b302"
      },
      "source": [
        "mydog = Dog()"
      ],
      "execution_count": 5,
      "outputs": [
        {
          "output_type": "stream",
          "text": [
            "Animal created\n",
            "Dog is created\n"
          ],
          "name": "stdout"
        }
      ]
    },
    {
      "cell_type": "code",
      "metadata": {
        "colab": {
          "base_uri": "https://localhost:8080/"
        },
        "id": "S-D51pTD6VfE",
        "outputId": "d4d7d355-56ec-4b32-db27-4950344c8d13"
      },
      "source": [
        "mydog.eat()"
      ],
      "execution_count": 7,
      "outputs": [
        {
          "output_type": "stream",
          "text": [
            "I am eating\n"
          ],
          "name": "stdout"
        }
      ]
    },
    {
      "cell_type": "code",
      "metadata": {
        "colab": {
          "base_uri": "https://localhost:8080/"
        },
        "id": "52EoencI6ypf",
        "outputId": "7d0268c6-3476-4d8a-827d-5c6abd4902df"
      },
      "source": [
        "my_animal.who_am_i()"
      ],
      "execution_count": 32,
      "outputs": [
        {
          "output_type": "stream",
          "text": [
            "I am an Animal\n"
          ],
          "name": "stdout"
        }
      ]
    },
    {
      "cell_type": "code",
      "metadata": {
        "id": "A1tE24nB62fE"
      },
      "source": [
        "#Polymorphism"
      ],
      "execution_count": 33,
      "outputs": []
    },
    {
      "cell_type": "code",
      "metadata": {
        "id": "7iB7YtYf7M2-"
      },
      "source": [
        "class Dog():\n",
        "\n",
        "  def __init__(self,name):\n",
        "    self.name = name\n",
        "\n",
        "  def speak(self):\n",
        "    return self.name + ' says woof!'"
      ],
      "execution_count": 1,
      "outputs": []
    },
    {
      "cell_type": "code",
      "metadata": {
        "id": "Ot2PT5UKcBGb"
      },
      "source": [
        "# Object Oriented Programming. Special Methods.(Magic/Dunder)\n",
        "\n",
        "class Book():\n",
        "  def __init__(self, title, author, pages):\n",
        "    self.title = title\n",
        "    self.author = author\n",
        "    self.pages = pages\n",
        "\n",
        "  #if I want my object to return the string than I have to create a new special method like below\n",
        "  def __str__(self):\n",
        "    return f'{self.title} by {self.author}'\n",
        "\n",
        "  #another special method i want to return the lengh of the page\n",
        "  def __len__(self):\n",
        "    return self.pages\n",
        "#this special method will help to delete an object\n",
        "\n",
        "  def __del__(self):\n",
        "    print('A Book object has been deleted')\n"
      ],
      "execution_count": 18,
      "outputs": []
    },
    {
      "cell_type": "code",
      "metadata": {
        "id": "JMV92WkCcd5b"
      },
      "source": [
        "b = Book('Tojikon','Ayni',200)"
      ],
      "execution_count": 19,
      "outputs": []
    },
    {
      "cell_type": "code",
      "metadata": {
        "colab": {
          "base_uri": "https://localhost:8080/"
        },
        "id": "DV0W4VW3cfu3",
        "outputId": "3fad7a50-f85e-4c9a-ac51-8dccfb077525"
      },
      "source": [
        "#print the string of the object\n",
        "print(b)\n",
        "\n",
        "str(b)\n",
        "#print the lenght of the object\n",
        "\n",
        "len(b)"
      ],
      "execution_count": 20,
      "outputs": [
        {
          "output_type": "stream",
          "text": [
            "Tojikon by Ayni\n"
          ],
          "name": "stdout"
        },
        {
          "output_type": "execute_result",
          "data": {
            "text/plain": [
              "200"
            ]
          },
          "metadata": {
            "tags": []
          },
          "execution_count": 20
        }
      ]
    },
    {
      "cell_type": "code",
      "metadata": {
        "colab": {
          "base_uri": "https://localhost:8080/"
        },
        "id": "APiqOepBcuGb",
        "outputId": "861c935d-f7eb-4a67-bf87-9b575d40854a"
      },
      "source": [
        "#you can also delete a book by 'del class name'\n",
        "\n",
        "del b"
      ],
      "execution_count": 13,
      "outputs": [
        {
          "output_type": "stream",
          "text": [
            "A Book object has been deleted\n"
          ],
          "name": "stdout"
        }
      ]
    },
    {
      "cell_type": "code",
      "metadata": {
        "id": "j5kkdEqwjJZd"
      },
      "source": [
        "#OOP Exercise part\n",
        "\n",
        "class Cylinder:\n",
        "    \n",
        "    def __init__(self,height=1,radius=1):\n",
        "        self.height = height\n",
        "        self.radius = radius\n",
        "        \n",
        "    def volume(self):\n",
        "        return 3.14 * self.radius **2 * self.height\n",
        "    \n",
        "    def surface_area(self):\n",
        "        return 2*3.14*self.radius*self.height+2*3.14*self.radius**2"
      ],
      "execution_count": 3,
      "outputs": []
    },
    {
      "cell_type": "code",
      "metadata": {
        "id": "jK6ehZbJrsR-"
      },
      "source": [
        "c = Cylinder(2,3)"
      ],
      "execution_count": 5,
      "outputs": []
    },
    {
      "cell_type": "code",
      "metadata": {
        "colab": {
          "base_uri": "https://localhost:8080/"
        },
        "id": "SwCh08pas7QE",
        "outputId": "2687a464-02b4-4012-81ee-8f3f534ce7a0"
      },
      "source": [
        "c.volume()"
      ],
      "execution_count": 6,
      "outputs": [
        {
          "output_type": "execute_result",
          "data": {
            "text/plain": [
              "56.52"
            ]
          },
          "metadata": {
            "tags": []
          },
          "execution_count": 6
        }
      ]
    },
    {
      "cell_type": "code",
      "metadata": {
        "colab": {
          "base_uri": "https://localhost:8080/"
        },
        "id": "ip8qU1Z2tBCw",
        "outputId": "9e5e615f-20e1-4554-b421-54fd4624292e"
      },
      "source": [
        "\n",
        "c.surface_area()"
      ],
      "execution_count": 7,
      "outputs": [
        {
          "output_type": "execute_result",
          "data": {
            "text/plain": [
              "94.2"
            ]
          },
          "metadata": {
            "tags": []
          },
          "execution_count": 7
        }
      ]
    },
    {
      "cell_type": "code",
      "metadata": {
        "id": "gLQ_NycKtDEs"
      },
      "source": [
        "class Line:\n",
        "    \n",
        "    def __init__(self,coor1,coor2):\n",
        "        self.coor1 = coor1\n",
        "        self.coor2 = coor2\n",
        "    \n",
        "    def distance(self):\n",
        "        \n",
        "        x1,y1 = self.coor1\n",
        "        x2,y2 = self.coor2\n",
        "\n",
        "        return ((x2-x1)**2 + (y2-y1)**2)**0.5\n",
        "    \n",
        "    def slope(self):\n",
        "        \n",
        "        x1,y1 = self.coor1\n",
        "        x2,y2 = self.coor2\n",
        "\n",
        "        return (y2-y1) / (x2-x1)\n"
      ],
      "execution_count": 1,
      "outputs": []
    },
    {
      "cell_type": "markdown",
      "metadata": {
        "id": "kSBNbFX_9OWE"
      },
      "source": [
        "# New Section"
      ]
    },
    {
      "cell_type": "markdown",
      "metadata": {
        "id": "Ux7gi8z69PCH"
      },
      "source": [
        "# New Section"
      ]
    },
    {
      "cell_type": "code",
      "metadata": {
        "id": "xOTXwQQtGxJL"
      },
      "source": [
        "coordinate1 = (3,2)\n",
        "coordinate2 = (8,10)\n",
        "\n",
        "li = Line(coordinate1,coordinate2)"
      ],
      "execution_count": 3,
      "outputs": []
    },
    {
      "cell_type": "code",
      "metadata": {
        "colab": {
          "base_uri": "https://localhost:8080/"
        },
        "id": "LiCtqu0Kvfln",
        "outputId": "e85aa7f6-06d0-46e8-bb63-8872e7b3d72f"
      },
      "source": [
        "li.distance()"
      ],
      "execution_count": 4,
      "outputs": [
        {
          "output_type": "execute_result",
          "data": {
            "text/plain": [
              "9.433981132056603"
            ]
          },
          "metadata": {
            "tags": []
          },
          "execution_count": 4
        }
      ]
    },
    {
      "cell_type": "code",
      "metadata": {
        "colab": {
          "base_uri": "https://localhost:8080/"
        },
        "id": "i4EYiHb0vm3N",
        "outputId": "09dbc053-bebe-41ce-8eaa-38df0f477508"
      },
      "source": [
        "li.slope()"
      ],
      "execution_count": 5,
      "outputs": [
        {
          "output_type": "execute_result",
          "data": {
            "text/plain": [
              "1.6"
            ]
          },
          "metadata": {
            "tags": []
          },
          "execution_count": 5
        }
      ]
    },
    {
      "cell_type": "code",
      "metadata": {
        "id": "uOU7vYb9vpkY"
      },
      "source": [
        "class Account:\n",
        "\n",
        "  def __init__(self,owner, balance =0):\n",
        "    self.owner = owner\n",
        "    self.balance = balance\n",
        "    \n",
        "\n",
        "  def deposit(self, dpt_amt):\n",
        "    self.balance = self.balance + dpt_amt\n",
        "    print(f'Added {dpt_amt} to the balance')\n",
        "\n",
        "  def withdraw(self, wt_amt):\n",
        "    if self.balance >= wt_amt:\n",
        "      self.balance = self.balance - wt_amt\n",
        "      print('Withdrawal Accepted')\n",
        "    else:\n",
        "      print('Sorry not enough funds')\n",
        "\n",
        "  def __str__(self):\n",
        "    return f'Owner is {self.owner} \\nBalance {self.balance}'\n"
      ],
      "execution_count": 64,
      "outputs": []
    },
    {
      "cell_type": "code",
      "metadata": {
        "id": "4O07IEBJCYK7"
      },
      "source": [
        "a = Account('Somoni', 500)"
      ],
      "execution_count": 65,
      "outputs": []
    },
    {
      "cell_type": "code",
      "metadata": {
        "colab": {
          "base_uri": "https://localhost:8080/"
        },
        "id": "YtgJGM26IjNh",
        "outputId": "4d98b5c9-bbc5-46fb-9112-5d29a2affdc3"
      },
      "source": [
        "print(a)"
      ],
      "execution_count": 69,
      "outputs": [
        {
          "output_type": "stream",
          "text": [
            "Owner is Somoni \n",
            "Balance 0\n"
          ],
          "name": "stdout"
        }
      ]
    },
    {
      "cell_type": "code",
      "metadata": {
        "colab": {
          "base_uri": "https://localhost:8080/"
        },
        "id": "IzvixoijIwTT",
        "outputId": "63b76951-59e4-44eb-97f7-8f4e2ed55f3c"
      },
      "source": [
        "a.deposit(200)"
      ],
      "execution_count": 67,
      "outputs": [
        {
          "output_type": "stream",
          "text": [
            "Added 200 to the balance\n"
          ],
          "name": "stdout"
        }
      ]
    },
    {
      "cell_type": "code",
      "metadata": {
        "colab": {
          "base_uri": "https://localhost:8080/"
        },
        "id": "kTIyGKr0JC1y",
        "outputId": "6f55a1bb-d643-4431-8853-5ce72daae9f5"
      },
      "source": [
        "a.withdraw(50)"
      ],
      "execution_count": 70,
      "outputs": [
        {
          "output_type": "stream",
          "text": [
            "Sorry not enough funds\n"
          ],
          "name": "stdout"
        }
      ]
    },
    {
      "cell_type": "code",
      "metadata": {
        "colab": {
          "base_uri": "https://localhost:8080/"
        },
        "id": "dLxEwtjaJG7R",
        "outputId": "f488e4ce-b168-4e92-ba11-1a467fdeaa57"
      },
      "source": [
        "print(a)"
      ],
      "execution_count": 57,
      "outputs": [
        {
          "output_type": "stream",
          "text": [
            "Owner is Somoni \n",
            "Balance 700\n"
          ],
          "name": "stdout"
        }
      ]
    },
    {
      "cell_type": "code",
      "metadata": {
        "id": "IdnEN2b9JaMs"
      },
      "source": [
        ""
      ],
      "execution_count": null,
      "outputs": []
    }
  ]
}